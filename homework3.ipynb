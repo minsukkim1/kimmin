{
 "cells": [
  {
   "cell_type": "markdown",
   "metadata": {},
   "source": [
    "### 1. L=[1, 2, 3, 4, 5]일 때 다음 각 문장을 수행한 후의 결과를 보고 납득할 만한 이유를 설명하시오.\n",
    "- 1)\n",
    "   - L[1:3] = [100]\n",
    "   - print(L)\n",
    "- 2)\n",
    "   - L[1:3] = [(100)]\n",
    "   - print(L)\n",
    "- 3)\n",
    "   - L[1:3] = 100\n",
    "   - print(L)\n",
    "- 4)\n",
    "   - L[1:3] = (100)\n",
    "   - print(L)\n",
    "- 5)\n",
    "   - L[1:3] = (100, 101, 102)\n",
    "   - print(L)\n",
    "\n",
    "- 6)\n",
    "   - L[1:3] = [100, 101, 102]\n",
    "   - print(L)\n",
    "- 7)\n",
    "   - L[1:3] = [(100, 101, 102)]\n",
    "   - print(L)\n",
    "- 8)\n",
    "   - L[1:3] = [[100, 101, 102]]\n",
    "   - print(L)"
   ]
  },
  {
   "cell_type": "code",
   "execution_count": 10,
   "metadata": {},
   "outputs": [
    {
     "name": "stdout",
     "output_type": "stream",
     "text": [
      "[1, 100, 4, 5]\n"
     ]
    }
   ],
   "source": [
    "L=[1,2,3,4,5]\n",
    "L[1:3] = [100]\n",
    "print(L)"
   ]
  },
  {
   "cell_type": "markdown",
   "metadata": {},
   "source": [
    "L을 배열을 넣는 [100] L[1],L[2]의 값을 100으로 바꾸므로 [1, 100, 4, 5]가 나온다."
   ]
  },
  {
   "cell_type": "code",
   "execution_count": 12,
   "metadata": {},
   "outputs": [
    {
     "name": "stdout",
     "output_type": "stream",
     "text": [
      "[1, 100, 4, 5]\n"
     ]
    }
   ],
   "source": [
    "L=[1,2,3,4,5]\n",
    "L[1:3] = [(100)]\n",
    "print(L)"
   ]
  },
  {
   "cell_type": "markdown",
   "metadata": {},
   "source": [
    "L을 [(100)]는 ()로 해도 []가 있어서 배열로 넣어준다."
   ]
  },
  {
   "cell_type": "code",
   "execution_count": 13,
   "metadata": {},
   "outputs": [
    {
     "ename": "TypeError",
     "evalue": "can only assign an iterable",
     "output_type": "error",
     "traceback": [
      "\u001b[1;31m---------------------------------------------------------------------------\u001b[0m",
      "\u001b[1;31mTypeError\u001b[0m                                 Traceback (most recent call last)",
      "\u001b[1;32m<ipython-input-13-bb59415d1a03>\u001b[0m in \u001b[0;36m<module>\u001b[1;34m()\u001b[0m\n\u001b[0;32m      1\u001b[0m \u001b[0mL\u001b[0m\u001b[1;33m=\u001b[0m\u001b[1;33m[\u001b[0m\u001b[1;36m1\u001b[0m\u001b[1;33m,\u001b[0m\u001b[1;36m2\u001b[0m\u001b[1;33m,\u001b[0m\u001b[1;36m3\u001b[0m\u001b[1;33m,\u001b[0m\u001b[1;36m4\u001b[0m\u001b[1;33m,\u001b[0m\u001b[1;36m5\u001b[0m\u001b[1;33m]\u001b[0m\u001b[1;33m\u001b[0m\u001b[0m\n\u001b[1;32m----> 2\u001b[1;33m \u001b[0mL\u001b[0m\u001b[1;33m[\u001b[0m\u001b[1;36m1\u001b[0m\u001b[1;33m:\u001b[0m\u001b[1;36m3\u001b[0m\u001b[1;33m]\u001b[0m \u001b[1;33m=\u001b[0m \u001b[1;36m100\u001b[0m\u001b[1;33m\u001b[0m\u001b[0m\n\u001b[0m\u001b[0;32m      3\u001b[0m \u001b[0mprint\u001b[0m\u001b[1;33m(\u001b[0m\u001b[0mL\u001b[0m\u001b[1;33m)\u001b[0m\u001b[1;33m\u001b[0m\u001b[0m\n",
      "\u001b[1;31mTypeError\u001b[0m: can only assign an iterable"
     ]
    }
   ],
   "source": [
    "L=[1,2,3,4,5]\n",
    "L[1:3] = 100\n",
    "print(L)"
   ]
  },
  {
   "cell_type": "markdown",
   "metadata": {},
   "source": [
    "1:3까지인데 100값 하나만 넣을수 없으므로 숫자가 맞지 않으므로 값이 실행되지 않는다."
   ]
  },
  {
   "cell_type": "code",
   "execution_count": 14,
   "metadata": {},
   "outputs": [
    {
     "ename": "TypeError",
     "evalue": "can only assign an iterable",
     "output_type": "error",
     "traceback": [
      "\u001b[1;31m---------------------------------------------------------------------------\u001b[0m",
      "\u001b[1;31mTypeError\u001b[0m                                 Traceback (most recent call last)",
      "\u001b[1;32m<ipython-input-14-3ef3126de6a0>\u001b[0m in \u001b[0;36m<module>\u001b[1;34m()\u001b[0m\n\u001b[0;32m      1\u001b[0m \u001b[0mL\u001b[0m\u001b[1;33m=\u001b[0m\u001b[1;33m[\u001b[0m\u001b[1;36m1\u001b[0m\u001b[1;33m,\u001b[0m\u001b[1;36m2\u001b[0m\u001b[1;33m,\u001b[0m\u001b[1;36m3\u001b[0m\u001b[1;33m,\u001b[0m\u001b[1;36m4\u001b[0m\u001b[1;33m,\u001b[0m\u001b[1;36m5\u001b[0m\u001b[1;33m]\u001b[0m\u001b[1;33m\u001b[0m\u001b[0m\n\u001b[1;32m----> 2\u001b[1;33m \u001b[0mL\u001b[0m\u001b[1;33m[\u001b[0m\u001b[1;36m1\u001b[0m\u001b[1;33m:\u001b[0m\u001b[1;36m3\u001b[0m\u001b[1;33m]\u001b[0m \u001b[1;33m=\u001b[0m \u001b[1;33m(\u001b[0m\u001b[1;36m100\u001b[0m\u001b[1;33m)\u001b[0m\u001b[1;33m\u001b[0m\u001b[0m\n\u001b[0m\u001b[0;32m      3\u001b[0m \u001b[0mprint\u001b[0m\u001b[1;33m(\u001b[0m\u001b[0mL\u001b[0m\u001b[1;33m)\u001b[0m\u001b[1;33m\u001b[0m\u001b[0m\n",
      "\u001b[1;31mTypeError\u001b[0m: can only assign an iterable"
     ]
    }
   ],
   "source": [
    "L=[1,2,3,4,5]\n",
    "L[1:3] = (100)\n",
    "print(L)\n"
   ]
  },
  {
   "cell_type": "markdown",
   "metadata": {},
   "source": [
    "위 (100)은 하나의 값을 나타내는데, L[1]과 L[2] 두개의 배열을 받으므로 실행되지 않는다."
   ]
  },
  {
   "cell_type": "code",
   "execution_count": 15,
   "metadata": {},
   "outputs": [
    {
     "name": "stdout",
     "output_type": "stream",
     "text": [
      "[1, 100, 101, 102, 4, 5]\n"
     ]
    }
   ],
   "source": [
    "L=[1,2,3,4,5]\n",
    "L[1:3] = (100, 101, 102)\n",
    "print(L)"
   ]
  },
  {
   "cell_type": "markdown",
   "metadata": {},
   "source": [
    "1:3까지의 값에 (100,101,102)를 넣어 1:3값은 사라지고 저 값이 들어가므로 [1, 100, 101, 102, 4, 5]가 실행된다."
   ]
  },
  {
   "cell_type": "code",
   "execution_count": 16,
   "metadata": {},
   "outputs": [
    {
     "name": "stdout",
     "output_type": "stream",
     "text": [
      "[1, 100, 101, 102, 4, 5]\n"
     ]
    }
   ],
   "source": [
    "L=[1,2,3,4,5]\n",
    "L[1:3] = [100, 101, 102]\n",
    "print(L)"
   ]
  },
  {
   "cell_type": "markdown",
   "metadata": {},
   "source": [
    "이것도 위의 상황과 같은 이유로 실행된다."
   ]
  },
  {
   "cell_type": "code",
   "execution_count": 18,
   "metadata": {},
   "outputs": [
    {
     "name": "stdout",
     "output_type": "stream",
     "text": [
      "[1, (100, 101, 102), 4, 5]\n"
     ]
    }
   ],
   "source": [
    "L=[1,2,3,4,5]\n",
    "L[1:3] = [(100, 101, 102)]\n",
    "print(L)"
   ]
  },
  {
   "cell_type": "markdown",
   "metadata": {},
   "source": [
    "위 값은 1:3에 (100, 101, 102)를 넣어 L[2]에 [(100, 101, 102)]를 넣는다."
   ]
  },
  {
   "cell_type": "code",
   "execution_count": 19,
   "metadata": {},
   "outputs": [
    {
     "name": "stdout",
     "output_type": "stream",
     "text": [
      "[1, [100, 101, 102], 4, 5]\n"
     ]
    }
   ],
   "source": [
    "L=[1,2,3,4,5]\n",
    "L[1:3] = [[100, 101, 102]]\n",
    "print(L)"
   ]
  },
  {
   "cell_type": "markdown",
   "metadata": {},
   "source": [
    "이것도 똑같으나 배열안에 또 배열이 들어간 형태를 하고 있어서 [1, [100, 101, 102], 4, 5]가 된다."
   ]
  },
  {
   "cell_type": "markdown",
   "metadata": {},
   "source": [
    "### 2. 문자열 S = 'Hello World and Python'에 대해 다음 요구사항에 대한 Python 코드를 제시하시오.\n",
    "- 1) 단어의 순서가 역순으로 되어진 문자열 ('Python and World Hello')을 만들고\n",
    "- 2) 1)의 결과 문자열에 대해 메소드 split과 join을 이용하여 공백을 모두 없엔 문자열 'PythonandWorldHello'을 만드시오."
   ]
  },
  {
   "cell_type": "code",
   "execution_count": 40,
   "metadata": {},
   "outputs": [
    {
     "name": "stdout",
     "output_type": "stream",
     "text": [
      "Python and World Hello \n",
      "HelloWorldandPython\n"
     ]
    }
   ],
   "source": [
    "S = 'Hello World and Python'\n",
    "print(S[16:]+S[11:16]+S[6:12]+S[:6])\n",
    "s = S.split()\n",
    "s1=''.join(s)\n",
    "print(s1)"
   ]
  },
  {
   "cell_type": "markdown",
   "metadata": {},
   "source": [
    "1)은 S를 [:]역순에 맞도록 값을 넣어준다.\n",
    "2)는 먼저 split()로 공백에 맞춰 리스트로 바꿔주고, ''.join으로 리스트를 다시 문자열로 바꿔주면서 ''는 그냥 값을 합치므로 공백이 모두 없어진다."
   ]
  },
  {
   "cell_type": "markdown",
   "metadata": {},
   "source": [
    "### 3.다음 코드를 보고 물음에 답하시오.\n",
    "- a = [1, 2, 3]\n",
    "- b = a * 3\n",
    "- c = [a] * 3\n",
    "- print(b)\n",
    "- print(c)\n",
    " - 1) 위 코드를 수행한 이후 다음 코드를 수행한 후 b와 c의 내용을 확인하시오.\n",
    "    - a[0]=0\n",
    " - 2) b와 c 객체의 차이는 무엇인가?"
   ]
  },
  {
   "cell_type": "code",
   "execution_count": 46,
   "metadata": {},
   "outputs": [
    {
     "name": "stdout",
     "output_type": "stream",
     "text": [
      "[1, 2, 3, 1, 2, 3, 1, 2, 3]\n",
      "[[1, 2, 3], [1, 2, 3], [1, 2, 3]]\n",
      "[1, 2, 3, 1, 2, 3, 1, 2, 3]\n",
      "[[0, 2, 3], [0, 2, 3], [0, 2, 3]]\n"
     ]
    }
   ],
   "source": [
    "a = [1, 2, 3]\n",
    "b = a * 3\n",
    "c = [a] * 3\n",
    "print(b)\n",
    "print(c)\n",
    "a[0]=0\n",
    "print(b)\n",
    "print(c)"
   ]
  },
  {
   "cell_type": "markdown",
   "metadata": {},
   "source": [
    "2).\n",
    " a[0]=0을 넣어서 a=[0,2,3]인데 b는 처음 b를 받을때 값을 받았기 때문에 a가 바뀌어도 b의 값은 바뀌지 않는다.\n",
    " 하지만 c는 a의 배열자체를 받았기 때문에 a값이 바뀌면 c값도 바뀌게된다."
   ]
  },
  {
   "cell_type": "markdown",
   "metadata": {},
   "source": [
    "### 4. 다음 문자열을 ':'을 기준으로 분리하여 리스트로 만들고 각 문자열의 좌우 공백을 제거하시오 (즉, 문자열 S에서 l을 만들어라)\n",
    "s = '  first star   :   second star   :    third star  '\n",
    "l = ['first star', 'second star', 'third star']\n",
    "- 1) for ~ in 문을 이용한 코드를 작성하시오.\n",
    "- 2) 리스트 내포(list comprehension)를 이용한 코드를 작성하시오."
   ]
  },
  {
   "cell_type": "code",
   "execution_count": 86,
   "metadata": {},
   "outputs": [
    {
     "name": "stdout",
     "output_type": "stream",
     "text": [
      "['first star', 'second star', 'third star']\n",
      "['first star', 'second star', 'third star']\n"
     ]
    }
   ],
   "source": [
    "s = ' first star : second star : third star '\n",
    "l=[]\n",
    "S=s.split(':')\n",
    "for x in S:\n",
    "    x=x.rstrip()\n",
    "    x=x.lstrip()\n",
    "    l.append(x)\n",
    "print(l)\n",
    "\n",
    "s = ' first star : second star : third star '\n",
    "S=s.split(':')\n",
    "S = [x.rstrip() for x in S]\n",
    "l = [x.lstrip() for x in S]\n",
    "print(l)"
   ]
  },
  {
   "cell_type": "markdown",
   "metadata": {},
   "source": [
    "1)의 경우 먼저 split을 한 후,for in 을 이용해 S의 각각의 리스트를 나타내주는 x를 이용해 x.rstrip()과 lstrip을 이용해 공백문자를 지웠다.\n",
    "2).의 경우 리스트 내포를 이용해 S리스트 안에 먼저 rstrip를 for in 을 이용해 rstrip을 이용하고, l에 lstrip을 리스트 내포를 이용해 나타내어 결과 값이 나왔다."
   ]
  },
  {
   "cell_type": "markdown",
   "metadata": {},
   "source": [
    "### 5. 다음과 같이 0보다 큰 정수 리스트 변수 list를 인자로 받는 함수 addall(list)와 addallodd(list)를 for ~ in 리터널과 리스트 내포 방식으로 각각 제시하시오.\n",
    "- 1) addall(list) 함수 (리스트 내의 모든 정수를 더하는 함수로서 해답으로는 for ~ in 리터럴과 리스트 내포 방식으로 각각 제시하시오.)\n",
    "    - \\>>> addall([1])\n",
    "    - 1\n",
    "    - \\>>> addall([1, 2, 3, 4, 5, 6, 7, 8, 9])\n",
    "    - 45\n",
    "- 2) addallodd(list) 함수 (리스트내의 모든 홀수를 더하는 함수로서 해답으로는 for ~ in 리터럴과 리스트 내포 방식으로 각각 제시하시오.)\n",
    "    - \\>>> addallodd([1])\n",
    "    - 1\n",
    "    - \\>>> addallodd([1, 2, 3, 4, 5, 6, 7, 8, 9])\n",
    "    - 25\n",
    "- [참고 1]: 리스트 내포 방식으로 addall() 및 addallodd()함수를 만들 때엔 리스트 내포에 의해 생성된 리스트 결과에 대해 내장 함수를 사용하는 방식을 고려해보시오 (주의: 리스트 내포 방식의 addall() 및 addallodd() 함수의 몸체는 단 1줄로 작성되어야 한다.)\n",
    "- [참고 2]: sum() 등의 내장함수 사용 가능함"
   ]
  },
  {
   "cell_type": "code",
   "execution_count": 29,
   "metadata": {},
   "outputs": [
    {
     "name": "stdout",
     "output_type": "stream",
     "text": [
      "45\n",
      "25\n"
     ]
    }
   ],
   "source": [
    "\n",
    "def addall(a):\n",
    "    return sum([x for x in a])\n",
    "def addallodd(b):\n",
    "    return sum([x for x in b if x%2==1])\n",
    "\n",
    "a=(addall([1,2,3,4,5,6,7,8,9]))\n",
    "print(a)\n",
    "b=(addallodd([1,2,3,4,5,6,7,8,9]))\n",
    "print(b)"
   ]
  },
  {
   "cell_type": "markdown",
   "metadata": {},
   "source": [
    "def로 두 함수를 정의한 후, 리스트 내포를 이용해 x의 값을 받은 후, odd의 경우 x%2==1일때 홀수임을 이용해 값을 받아 sum함수를 이용해 리스트의 값을 모두 더하여 출력한다."
   ]
  },
  {
   "cell_type": "markdown",
   "metadata": {},
   "source": [
    "### 6. 다음 코드를 보고 물음에 답하시오.\n",
    "\n",
    "- L1 = [1, 2, 3]\n",
    "- L2 = [4, 5, 6]\n",
    "- d = {'low':L1, 'high':L2}\n",
    "- e = d\n",
    "- f = d.copy()\n",
    "- print(d)\n",
    "- print(e)\n",
    "- print(f)\n",
    "- print()\n",
    "- d['low'] = [10, 20, 30]\n",
    "- d['high'][1] = 500\n",
    "- print(d)\n",
    "- print(e)\n",
    "- print(f)\n",
    "\n",
    "    - 1) 위 코드의 수행 결과 d와 e는 항상 같은 결과를 출력한다. 그 이유는 무엇인가?\n",
    "    - 2) 위 코드의 수행 결과 마지막 f의 내용은 다음과 같다. 이 때 'high' 키의 값 내용 중 500이 출력된 이유와 'low' 키의 값 내용 중 [1, 2, 3]이 출력된 이유를 설명하시오 ([hint]: shallow copy 관점에서 설명하시오.)\n",
    "    - {'high': [4, 500, 6], 'low': [1, 2, 3]}"
   ]
  },
  {
   "cell_type": "code",
   "execution_count": 118,
   "metadata": {},
   "outputs": [
    {
     "name": "stdout",
     "output_type": "stream",
     "text": [
      "{'low': [1, 2, 3], 'high': [4, 5, 6]}\n",
      "{'low': [1, 2, 3], 'high': [4, 5, 6]}\n",
      "{'low': [1, 2, 3], 'high': [4, 5, 6]}\n",
      "\n",
      "{'low': [10, 20, 30], 'high': [4, 500, 6]}\n",
      "{'low': [10, 20, 30], 'high': [4, 500, 6]}\n",
      "{'low': [1, 2, 3], 'high': [4, 500, 6]}\n"
     ]
    }
   ],
   "source": [
    "L1 = [1, 2, 3]\n",
    "L2 = [4, 5, 6]\n",
    "d = {'low':L1, 'high':L2}\n",
    "e = d\n",
    "f = d.copy()\n",
    "print(d)\n",
    "print(e)\n",
    "print(f)\n",
    "print()\n",
    "d['low'] = [10, 20, 30]\n",
    "d['high'][1] = 500\n",
    "print(d)\n",
    "print(e)\n",
    "print(f)"
   ]
  },
  {
   "cell_type": "markdown",
   "metadata": {},
   "source": [
    "- 1). e의 경우 단순복사로 d의 주소를 받기 때문에 d를 바꾸면 e도 자동으로 바뀐다.\n",
    "- 2). f의 경우 shaalow copy로 d를 바꿀시 f는 값만 가져왔지 별도의 객체이기 때문에 값이 변하지 않는다."
   ]
  },
  {
   "cell_type": "markdown",
   "metadata": {},
   "source": [
    "사전 d = {'one':1, 'two':2, 'three':3, 'four':4, 'five':5}가 주어졌을 때 다음 요구사항에 맞는 코드를 제시하시오\n",
    "[참고]: d.keys(), d.values()를 통해 리스트를 얻어낸 후 리스트가 지니고 있는 sort(cmp=None, key=None, reverse=False)함수를 활용하시오.\n",
    "1) 키의 알파벳 오름차순 순서대로 튜플 (키, 값)을 차례대로 출력하시오.\n",
    "2) 키의 알파벳 내림차순 순서대로 튜플 (키, 값)을 차례대로 출력하시오.\n",
    "3) 값의 오름차순 순서대로 튜플 (키, 값)을 차례대로 출력하시오.\n",
    "4) 값의 내림차순 순서대로 튜플 (키, 값)을 차례대로 출력하시오."
   ]
  },
  {
   "cell_type": "code",
   "execution_count": 143,
   "metadata": {},
   "outputs": [
    {
     "name": "stdout",
     "output_type": "stream",
     "text": [
      "[('five', 5), ('four', 4), ('one', 1), ('three', 3), ('two', 2)]\n",
      "[('two', 2), ('three', 3), ('one', 1), ('four', 4), ('five', 5)]\n",
      "[('one', 1), ('two', 2), ('three', 3), ('four', 4), ('five', 5)]\n",
      "[('five', 5), ('four', 4), ('three', 3), ('two', 2), ('one', 1)]\n"
     ]
    }
   ],
   "source": [
    "d = {'one':1, 'two':2, 'three':3, 'four':4, 'five':5}\n",
    "print(sorted(d.items()))\n",
    "print(sorted(d.items(),reverse=True))\n",
    "print(sorted(d.items(), key=lambda t : t[1]))\n",
    "print(sorted(d.items(), key=lambda t : t[1],reverse=True))\n"
   ]
  },
  {
   "cell_type": "markdown",
   "metadata": {},
   "source": [
    "사전을 sort를 이용하기 위해서는  sort(cmp=None, key=None, reverse=False)를 이용해야한다. 키와 값을 모두 받아야 하므로 먼저 items로 받았고, 순서를 내림차순으로 바꾸기 위해서는 reverse=True로 바꾸면 된다., 또, 값에 따라 순서를 하기위해서 key값에 lambda라는 내장함수를 이용해 나타내었다."
   ]
  },
  {
   "cell_type": "markdown",
   "metadata": {},
   "source": [
    "### 7. [ACM-ICPC 문제 1152번]\n",
    "- 단어의 개수\n",
    "- 영어 대소문자와 띄어쓰기만으로 이루어진 문장이 주어진다. 이 문장에는 몇 개의 단어가 있을까? 이를 구하는 프로그램을 작성하시오. 단, 단어는 띄어쓰기 하나로 구분된다고 생각한다."
   ]
  },
  {
   "cell_type": "code",
   "execution_count": 7,
   "metadata": {},
   "outputs": [
    {
     "name": "stdout",
     "output_type": "stream",
     "text": [
      "The Curious Case of Benjamin Button\n",
      "6\n"
     ]
    }
   ],
   "source": [
    "ans = input()\n",
    "a=ans.split()\n",
    "i=0\n",
    "for x in a:\n",
    "    i+=1\n",
    "print(i)"
   ]
  },
  {
   "cell_type": "markdown",
   "metadata": {},
   "source": [
    "먼저 ans에 값을 받은후, 그 값을 공백에 맞춰 split 시킨다. 그러면 단어끼리 나누어지므로 그 값을 for in 을 이용해 세어서 총 단어의 갯수를 알아낸다.\n",
    "<img src=\"files/homework3.PNG\">"
   ]
  },
  {
   "cell_type": "markdown",
   "metadata": {},
   "source": [
    "### 8. [Incremental Project] 이전 Assignment 2의 마지막 문제는 웹 URL로 지정된 웹페이지를 문자열로 가져와 모든 HTML 태그 및 CSS와 Javascript를 제외한 순수 텍스트를 얻어내고 그 안에 존재하는 단어를 추출하고 단어들의 총 개수를 출력하는 프로그램을 작성하는 것이었다. 이번에는 그 마지막 숙제를 그대로 확장하여 웹 URL로 지정된 웹페이지 내 순수 텍스트 안에 존재하는 각 단어들에 대해 다음 요구사항 대로 출력하는 프로그램을 작성하시오.\n",
    "- 요구사항 1. 순수 텍스트 안에 존재하는 단어들에 대해 string 모듈을 활용하여 모든 punctuation (구두문자)를 완벽히 제거하시오.\n",
    "  - 예: ['world!', ':', '+hello+', '~python$$$', '=', 'world'] ---> ['world', 'hello', 'python', 'world']\n",
    "  - 모든 punctuation을 확인하는 방법은 아래와 같다.\n",
    "    import string\n",
    "    print(string.punctuation)\n",
    "- 요구사항 2. 만약 punctuation (구두문자)를 제거한 이후 공백으로 판명되는 단어들은 해당 단어 리스트에서 제거하시오.\n",
    "  - 예: ['컴퓨터공학부!', '---?', '%지향~', '...'] ---> ['컴퓨터공학부', '지향']\n",
    "- 요구사항 3. 각 단어들의 출현빈도를 사전형태로 저장하여 출력하시오.\n",
    "  - 예: ['world', 'hello', 'python', 'world', '컴퓨터공학부', '지향'] ---> {'world': 2, 'hello': 1, 'python': 1, '컴퓨터공학부': 1, '지향': 1}\n",
    "- 요구사항 4. 다음 3개의 사이트에 대한 결과를 출력하시오.\n",
    "    - http://www.naver.com\n",
    "    - http://www.daum.net\n",
    "    - http://www.nytimes.com"
   ]
  },
  {
   "cell_type": "code",
   "execution_count": 48,
   "metadata": {
    "scrolled": false
   },
   "outputs": [
    {
     "name": "stdout",
     "output_type": "stream",
     "text": [
      "['\\nvar nsc = \"navertop.v3\";\\ndocument.domain = \"naver.com\";\\nvar jindoAll = \"https://s.pstatic.net/pm2/js/c/jindo_v171025.js\";\\nif (!!!window.console) {window.console={};window.console[\"log\"]=function(){}}\\nvar isLogin = false; \\nfunction refreshLcs(etc) {etc = etc ? etc : {};if(document.cookie.indexOf(\"nrefreshx=1\") != -1) {etc[\"mrf\"]=\"1\";} else {etc[\"pan\"]=\"mom\";}return etc;}\\n\\nlcs_do(refreshLcs());', 1]\n",
      "['NAVER', 2]\n",
      "['뉴스스탠드 바로가기', 3]\n",
      "['주제별캐스트 바로가기', 4]\n",
      "['타임스퀘어 바로가기', 5]\n",
      "['쇼핑캐스트 바로가기', 6]\n",
      "['로그인 바로가기', 7]\n",
      "['네이버', 8]\n",
      "['네이버를 시작페이지로', 9]\n",
      "['쥬니어네이버', 10]\n",
      "['해피빈', 11]\n",
      "['검색', 12]\n",
      "['통합검색', 13]\n",
      "['블로그', 14]\n",
      "['카페', 15]\n",
      "['- 카페명', 16]\n",
      "['- 카페글', 17]\n",
      "['지식iN', 18]\n",
      "['뉴스', 19]\n",
      "['사이트', 20]\n",
      "['- 카테고리', 21]\n",
      "['- 사이트', 22]\n",
      "['영화', 23]\n",
      "['웹문서', 24]\n",
      "['사전', 25]\n",
      "['- 백과사전', 26]\n",
      "['- 영어사전', 27]\n",
      "['- 영영사전', 28]\n",
      "['- 국어사전', 29]\n",
      "['- 일본어사전', 30]\n",
      "['- 한자사전', 31]\n",
      "['- 용어사전', 32]\n",
      "['책', 33]\n",
      "['음악', 34]\n",
      "['전문자료', 35]\n",
      "['쇼핑', 36]\n",
      "['지역', 37]\n",
      "['동영상', 38]\n",
      "['이미지', 39]\n",
      "['내PC', 40]\n",
      "['영화', 41]\n",
      "['자동차', 42]\n",
      "['게임', 43]\n",
      "['건강', 44]\n",
      "['인물', 45]\n",
      "['긍정부정검색', 46]\n",
      "['자동완성 펼치기', 47]\n",
      "['검색', 48]\n",
      "['한글 입력기', 49]\n",
      "['생각한대로 검색해 보세요', 50]\n",
      "['Beta', 51]\n",
      "['@txt', 52]\n",
      "['@txt', 53]\n",
      "['시간대와 관심사에 맞춘', 54]\n",
      "['컨텍스트 자동완성', 55]\n",
      "['도움말 보기', 56]\n",
      "['ON', 57]\n",
      "['선택됨', 58]\n",
      "['OFF', 59]\n",
      "['컨텍스트 자동완성', 60]\n",
      "['동일한 시간대/연령/남녀별', 61]\n",
      "[' 사용자 그룹의', 62]\n",
      "['관심사에 맞춰 자동완성을 제공합니다.', 63]\n",
      "['로그인', 64]\n",
      "['자세히', 65]\n",
      "['ON/OFF설정은', 66]\n",
      "['해당 기기(브라우저)에 저장됩니다.', 67]\n",
      "['자세히', 68]\n",
      "['컨텍스트 자동완성 레이어 닫기', 69]\n",
      "['도움말', 70]\n",
      "['신고', 71]\n",
      "['검색어저장 켜기', 72]\n",
      "['자동완성 끄기', 73]\n",
      "['기능을 다시 켤 때는', 74]\n",
      "['자동완성 펼치기', 75]\n",
      "['을 클릭하세요', 76]\n",
      "['현재 자동완성 기능을 사용하고 계십니다.', 77]\n",
      "['도움말', 78]\n",
      "['신고', 79]\n",
      "['검색어저장 켜기', 80]\n",
      "['자동완성 끄기', 81]\n",
      "['기능을 다시 켤 때는', 82]\n",
      "['자동완성 펼치기', 83]\n",
      "['을 클릭하세요', 84]\n",
      "['자동완성 기능이 활성화되었습니다.', 85]\n",
      "['도움말', 86]\n",
      "['신고', 87]\n",
      "['검색어저장 켜기', 88]\n",
      "['자동완성 끄기', 89]\n",
      "['기능을 다시 켤 때는', 90]\n",
      "['자동완성 펼치기', 91]\n",
      "['을 클릭하세요', 92]\n",
      "['자동완성 기능이 꺼져 있습니다.', 93]\n",
      "['도움말', 94]\n",
      "['신고', 95]\n",
      "['검색어저장 켜기', 96]\n",
      "['자동완성 켜기', 97]\n",
      "['최근검색어', 98]\n",
      "['내 검색어', 99]\n",
      "['내 검색어 등록', 100]\n",
      "['@txt', 101]\n",
      "['@date@.', 102]\n",
      "['삭제', 103]\n",
      "['@in_txt', 104]\n",
      "['최근검색어 내역이 없습니다.', 105]\n",
      "['검색어 저장 기능이 꺼져 있습니다.', 106]\n",
      "['내 검색어 해제', 107]\n",
      "['@txt', 108]\n",
      "['설정된 내 검색어가 없습니다.', 109]\n",
      "['최근검색어에서', 110]\n",
      "['내 검색어 등록', 111]\n",
      "['를 선택하여 자주 찾는 검색어를', 112]\n",
      "['내 검색어로 저장해 보세요.', 113]\n",
      "['검색어 저장 기능이 꺼져 있습니다.', 114]\n",
      "['알림', 115]\n",
      "['공용 PC에서는 개인정보 보호를 위하여 반드시 로그아웃을 해 주세요.', 116]\n",
      "['기록 삭제', 117]\n",
      "['검색어저장 끄기', 118]\n",
      "['자동완성 끄기', 119]\n",
      "['기록 전체 삭제', 120]\n",
      "['완료', 121]\n",
      "['기록 전체 삭제', 122]\n",
      "['검색어저장 끄기', 123]\n",
      "['자동완성 끄기', 124]\n",
      "['기능을 다시 켤 때는', 125]\n",
      "['자동완성 펼치기', 126]\n",
      "['을 클릭하세요', 127]\n",
      "['내 검색어는', 128]\n",
      "['최대 10', 129]\n",
      "['개 까지 저장할 수 있습니다.', 130]\n",
      "['추가하시려면 기존 내 검색어를 지워주세요.', 131]\n",
      "['닫기', 132]\n",
      "['제19대 대통령선거 후보에 대해 5월 9일 선거일까지 자동완성 기능이 제공되지 않습니다.', 133]\n",
      "['자세히보기', 134]\n",
      "['@image7', 135]\n",
      "['@6', 136]\n",
      "['@1', 137]\n",
      "['@12', 138]\n",
      "['@6', 139]\n",
      "['@7', 140]\n",
      "['@8', 141]\n",
      "['@9', 142]\n",
      "['@10', 143]\n",
      "['@11', 144]\n",
      "['@12', 145]\n",
      "['@5@회차', 146]\n",
      "['(@13@.', 147]\n",
      "['\\n                @14', 148]\n",
      "['@money', 149]\n",
      "['@6', 150]\n",
      "['원', 151]\n",
      "['@10', 152]\n",
      "[' @8@ (@9', 153]\n",
      "['@7', 154]\n",
      "['@7', 155]\n",
      "['기온', 156]\n",
      "['@8', 157]\n",
      "['℃', 158]\n",
      "['@9', 159]\n",
      "['@10', 160]\n",
      "['@11', 161]\n",
      "['@5', 162]\n",
      "['@7', 163]\n",
      "['기온', 164]\n",
      "['@8', 165]\n",
      "['℃', 166]\n",
      "['@9', 167]\n",
      "['@10', 168]\n",
      "['@11', 169]\n",
      "['@5', 170]\n",
      "['@display_link', 171]\n",
      "['사이트로 바로 이동', 172]\n",
      "['@query', 173]\n",
      "['@intend', 174]\n",
      "['@txt', 175]\n",
      "['바로이동', 176]\n",
      "['@in_txt', 177]\n",
      "['\\n    @mismatch_before', 178]\n",
      "['@match', 179]\n",
      "['@mismatch_after', 180]\n",
      "['\\n    @mismatch_before', 181]\n",
      "['@match', 182]\n",
      "['@mismatch_after', 183]\n",
      "['메일', 184]\n",
      "['카페', 185]\n",
      "['블로그', 186]\n",
      "['지식인', 187]\n",
      "['쇼핑', 188]\n",
      "['네이버페이', 189]\n",
      "['네이버TV', 190]\n",
      "['사전', 191]\n",
      "['뉴스', 192]\n",
      "['증권(금융', 193]\n",
      "['부동산', 194]\n",
      "['지도', 195]\n",
      "['영화', 196]\n",
      "['뮤직', 197]\n",
      "['책', 198]\n",
      "['만화 / 웹툰', 199]\n",
      "['더보기', 200]\n",
      "['실시간 급상승 검색어', 201]\n",
      "['1', 202]\n",
      "['김주혁', 203]\n",
      "['2', 204]\n",
      "['이유영', 205]\n",
      "['3', 206]\n",
      "['김주혁 교통사고', 207]\n",
      "['4', 208]\n",
      "['김무생', 209]\n",
      "['5', 210]\n",
      "['심근경색', 211]\n",
      "['6', 212]\n",
      "['김기태', 213]\n",
      "['7', 214]\n",
      "['안녕하세요', 215]\n",
      "['8', 216]\n",
      "['도민호', 217]\n",
      "['9', 218]\n",
      "['한용덕', 219]\n",
      "['10', 220]\n",
      "['김주형', 221]\n",
      "['11', 222]\n",
      "['유아인', 223]\n",
      "['12', 224]\n",
      "['국민연금', 225]\n",
      "['13', 226]\n",
      "['양현종', 227]\n",
      "['14', 228]\n",
      "['김재호', 229]\n",
      "['15', 230]\n",
      "['사랑의 온도', 231]\n",
      "['16', 232]\n",
      "['마녀의 법정', 233]\n",
      "['17', 234]\n",
      "['육각수', 235]\n",
      "['18', 236]\n",
      "['아르곤', 237]\n",
      "['19', 238]\n",
      "['김주혁 1박2일', 239]\n",
      "['20', 240]\n",
      "['혜은이', 241]\n",
      "['실시간 급상승', 242]\n",
      "['DataLab.', 243]\n",
      "['급상승 트래킹', 244]\n",
      "['1~10위', 245]\n",
      "['11~20위', 246]\n",
      "['1', 247]\n",
      "['김주혁', 248]\n",
      "['데이터랩 그래프 보기', 249]\n",
      "['2', 250]\n",
      "['이유영', 251]\n",
      "['데이터랩 그래프 보기', 252]\n",
      "['3', 253]\n",
      "['김주혁 교통사고', 254]\n",
      "['데이터랩 그래프 보기', 255]\n",
      "['4', 256]\n",
      "['김무생', 257]\n",
      "['데이터랩 그래프 보기', 258]\n",
      "['5', 259]\n",
      "['심근경색', 260]\n",
      "['데이터랩 그래프 보기', 261]\n",
      "['6', 262]\n",
      "['김기태', 263]\n",
      "['데이터랩 그래프 보기', 264]\n",
      "['7', 265]\n",
      "['안녕하세요', 266]\n",
      "['데이터랩 그래프 보기', 267]\n",
      "['8', 268]\n",
      "['도민호', 269]\n",
      "['데이터랩 그래프 보기', 270]\n",
      "['9', 271]\n",
      "['한용덕', 272]\n",
      "['데이터랩 그래프 보기', 273]\n",
      "['10', 274]\n",
      "['김주형', 275]\n",
      "['데이터랩 그래프 보기', 276]\n",
      "['11', 277]\n",
      "['유아인', 278]\n",
      "['데이터랩 그래프 보기', 279]\n",
      "['12', 280]\n",
      "['국민연금', 281]\n",
      "['데이터랩 그래프 보기', 282]\n",
      "['13', 283]\n",
      "['양현종', 284]\n",
      "['데이터랩 그래프 보기', 285]\n",
      "['14', 286]\n",
      "['김재호', 287]\n",
      "['데이터랩 그래프 보기', 288]\n",
      "['15', 289]\n",
      "['사랑의 온도', 290]\n",
      "['데이터랩 그래프 보기', 291]\n",
      "['16', 292]\n",
      "['마녀의 법정', 293]\n",
      "['데이터랩 그래프 보기', 294]\n",
      "['17', 295]\n",
      "['육각수', 296]\n",
      "['데이터랩 그래프 보기', 297]\n",
      "['18', 298]\n",
      "['아르곤', 299]\n",
      "['데이터랩 그래프 보기', 300]\n",
      "['19', 301]\n",
      "['김주혁 1박2일', 302]\n",
      "['데이터랩 그래프 보기', 303]\n",
      "['20', 304]\n",
      "['혜은이', 305]\n",
      "['데이터랩 그래프 보기', 306]\n",
      "['2017.10.30. 23:22:30 기준', 307]\n",
      "['도움말', 308]\n",
      "['연합뉴스', 309]\n",
      "[\"朴국정원, 左성향단체 15곳·문제인물 249명 '블랙리스트' 작성\", 310]\n",
      "['KIA, 11번째 한국시리즈 우승…1승1S 양현종 MVP', 311]\n",
      "['김주혁, 삼성동 교통사고로 사망…향년 45세', 312]\n",
      "[\"검찰 '경영비리' 롯데 신동빈 징역 10년 구형\", 313]\n",
      "['송영무 국방장관 \"北, 언젠가 무너질정권이라 생각\"', 314]\n",
      "['洪 \"朴제명 강행\"-친박 \"洪 직무정지\"', 315]\n",
      "['康외교 \"조만간 소식 발표\"…한중 사드합의 임박', 316]\n",
      "['이해진, 네이버 뉴스 근본 개편…\"전권 대표에게\"', 317]\n",
      "['종료 하루앞두고 국감 정상화…공방속 곳곳 정회', 318]\n",
      "['\\'미성년자 유인\\' 이영학 딸 구속…\"구속사유 있어\"', 319]\n",
      "['\\n네이버뉴스', 320]\n",
      "['\\n연예', 321]\n",
      "['\\n스포츠', 322]\n",
      "['\\n경제', 323]\n",
      "['\\n랭킹', 324]\n",
      "['뉴스스탠드', 325]\n",
      "['전체 언론사', 326]\n",
      "['MY 뉴스', 327]\n",
      "['이미지형', 328]\n",
      "['리스트형', 329]\n",
      "['설정', 330]\n",
      "['이전 페이지', 331]\n",
      "['다음 페이지', 332]\n",
      "['언론사 목록', 333]\n",
      "['구독', 334]\n",
      "['해지', 335]\n",
      "['기사보기', 336]\n",
      "['구독', 337]\n",
      "['해지', 338]\n",
      "['기사보기', 339]\n",
      "['구독', 340]\n",
      "['해지', 341]\n",
      "['기사보기', 342]\n",
      "['구독', 343]\n",
      "['해지', 344]\n",
      "['기사보기', 345]\n",
      "['구독', 346]\n",
      "['해지', 347]\n",
      "['기사보기', 348]\n",
      "['구독', 349]\n",
      "['해지', 350]\n",
      "['기사보기', 351]\n",
      "['구독', 352]\n",
      "['해지', 353]\n",
      "['기사보기', 354]\n",
      "['구독', 355]\n",
      "['해지', 356]\n",
      "['기사보기', 357]\n",
      "['구독', 358]\n",
      "['해지', 359]\n",
      "['기사보기', 360]\n",
      "['구독', 361]\n",
      "['해지', 362]\n",
      "['기사보기', 363]\n",
      "['구독', 364]\n",
      "['해지', 365]\n",
      "['기사보기', 366]\n",
      "['구독', 367]\n",
      "['해지', 368]\n",
      "['기사보기', 369]\n",
      "['구독', 370]\n",
      "['해지', 371]\n",
      "['기사보기', 372]\n",
      "['구독', 373]\n",
      "['해지', 374]\n",
      "['기사보기', 375]\n",
      "['구독', 376]\n",
      "['해지', 377]\n",
      "['기사보기', 378]\n",
      "['구독', 379]\n",
      "['해지', 380]\n",
      "['기사보기', 381]\n",
      "['구독', 382]\n",
      "['해지', 383]\n",
      "['기사보기', 384]\n",
      "['구독', 385]\n",
      "['해지', 386]\n",
      "['기사보기', 387]\n",
      "['언론사 목록', 388]\n",
      "['종합/경제', 389]\n",
      "['방송/통신', 390]\n",
      "['IT', 391]\n",
      "['영자지', 392]\n",
      "['스포츠/연예', 393]\n",
      "['매거진/전문지', 394]\n",
      "['지역', 395]\n",
      "['설정한 언론사가 없습니다.', 396]\n",
      "['언론사 구독 설정에서 MY언론사를 추가하면', 397]\n",
      "['설정한 언론사의 기사들을 네이버 홈에서 바로 보실 수 있습니다.', 398]\n",
      "['언론사 추가', 399]\n",
      "['Sign in', 400]\n",
      "['Connect with people', 401]\n",
      "['NAVER Sign in', 402]\n",
      "['Sign up', 403]\n",
      "['Forgot', 404]\n",
      "['Username', 405]\n",
      "[' or', 406]\n",
      "['Password', 407]\n",
      "['스포츠', 408]\n",
      "['10.30.', 409]\n",
      "['(월', 410]\n",
      "['|', 411]\n",
      "['스포츠', 412]\n",
      "['앞의 목록으로 이동', 413]\n",
      "['뒤의 목록으로 이동', 414]\n",
      "['야구', 415]\n",
      "['&#39;이범호 만루포&middot;양현종 SV&#39; KIA, 두산 꺾고 8년 만의 통합 우승', 416]\n",
      "['농구', 417]\n",
      "['토마스 &#39;트리플더블&#39; 삼성생명, 개막전서 하나은행 격파', 418]\n",
      "['일반', 419]\n",
      "['북한 피겨 &quot;평창올림픽 출전 의사 있다&quot; ISU에 통보', 420]\n",
      "['주제형 캐스트', 421]\n",
      "['관심 주제 선택', 422]\n",
      "['리빙', 423]\n",
      "['푸드', 424]\n",
      "['스포츠', 425]\n",
      "['자동차', 426]\n",
      "['패션뷰티', 427]\n",
      "['맘·키즈', 428]\n",
      "['건강', 429]\n",
      "['웹툰', 430]\n",
      "['게임', 431]\n",
      "['TV연예', 432]\n",
      "['뮤직', 433]\n",
      "['영화', 434]\n",
      "['책문화', 435]\n",
      "['함께N', 436]\n",
      "['여행', 437]\n",
      "['디자인', 438]\n",
      "['경제M', 439]\n",
      "['JOB', 440]\n",
      "['과학', 441]\n",
      "['중국', 442]\n",
      "['비즈니스', 443]\n",
      "['FARM', 444]\n",
      "['스쿨잼', 445]\n",
      "['공연전시', 446]\n",
      "['법률', 447]\n",
      "['동물공감', 448]\n",
      "['연애·결혼', 449]\n",
      "['테크', 450]\n",
      "['이전 주제', 451]\n",
      "['다음 주제', 452]\n",
      "['전체 주제 열기', 453]\n",
      "['관심 주제 설정', 454]\n",
      "['{=name}', 455]\n",
      "['{=name}\\n\\t\\t\\t\\t{if isNewPanel }', 456]\n",
      "['NEW', 457]\n",
      "['{/if}', 458]\n",
      "['{=name}', 459]\n",
      "[\"'{=name}'\", 460]\n",
      "['를 관심주제로', 461]\n",
      "['설정하시겠습니까', 462]\n",
      "['확인', 463]\n",
      "['취소', 464]\n",
      "['모바일에서 설정한 주제', 465]\n",
      "['를', 466]\n",
      "['가져오시겠습니까', 467]\n",
      "['확인', 468]\n",
      "['취소', 469]\n",
      "['전체 주제 목록 닫기', 470]\n",
      "['관심주제 설정', 471]\n",
      "['모바일 관심 주제 가져오기', 472]\n",
      "['로그인', 473]\n",
      "['후 사용 가능합니다', 474]\n",
      "['취소', 475]\n",
      "['확인', 476]\n",
      "['초기화', 477]\n",
      "['전체선택', 478]\n",
      "['모바일 관심 주제 가져오기', 479]\n",
      "['로그인', 480]\n",
      "['후 사용 가능합니다', 481]\n",
      "['맘·키즈', 482]\n",
      "['임신 10개월', 483]\n",
      "['연령별 발달', 484]\n",
      "['질병 백과', 485]\n",
      "['육아 포스트', 486]\n",
      "['맘키 블로그', 487]\n",
      "['키즈 윈도', 488]\n",
      "['한컷공감', 489]\n",
      "['공포의 드르륵｜꽃개미', 490]\n",
      "['베이비뉴스', 491]\n",
      "['추천 포스트', 492]\n",
      "['정책브리핑', 493]\n",
      "['추천 포스트', 494]\n",
      "['베이비조선', 495]\n",
      "['추천 포스트', 496]\n",
      "['랜선 집들이? 주부9단 엄마표 강추템', 497]\n",
      "['AD', 498]\n",
      "['아이비엘', 499]\n",
      "['\\n(function() {\\n\\tvar naver_corp_da = window.naver_corp_da || {};\\n\\tvar da_dom_id = \\'p_main_momkids_00\\'\\n\\tvar uId = (da_dom_id.length > 0) ? da_dom_id : (typeof nbp_ad !== \\'undefined\\') ? nbp_ad.mobilenetwork.ad_div_id : \\'adw_da\\';\\n\\tvar tarEl = NBP_CORP.$(uId);\\n\\t\\n\\tvar util = naver_corp_da.Util ? new naver_corp_da.Util() : new NBP_CORP.Nimp();\\n\\n\\tif(tarEl) {\\n\\t\\t/* ActiveView */\\n\\t\\tvar ac_end_date = \"20171105235959\";\\n\\t\\tvar ad_end_date = \"20171105235959\";\\n\\n\\t\\tvar scroll_target = (typeof da_scroll_target !== \\'undefined\\') ? da_scroll_target.targetEl : window;\\n\\t\\tvar orientation_change_time = 500;\\n\\n\\t\\tvar callback = function () {\\n\\t\\t\\tvar url = \"https://nv.veta.naver.com/fxview?eu=EU10019954&ac=7592732&src=3246380&evtcd=V900&x_ti=943&tb=MOMKIDS_1&oid=&sid1=&sid2=&rk=Wfc1uQpizTsAAEA7OtUAAAW4&eltts=BkF40dFxB9qt5VwItqz6AA%3D%3D&eid=V900&x_ev=\";\\n\\t\\t\\tvar x_ev = \\'\\';\\n\\t\\t\\ttry {\\n\\t\\t\\t\\tvar target = NBP_CORP.$(uId);\\n\\t\\t\\t\\tx_ev = (target) ? ((parseInt(target.getBoundingClientRect().height || target.offsetHeight, 10) === 0) ? \\'000\\' : \\'111\\') : \\'000\\';\\n\\t\\t\\t} catch(e) {\\n\\t\\t\\t\\tx_ev = \\'000\\';\\n\\t\\t\\t} finally {\\n\\t\\t\\t\\turl += x_ev;\\n\\t\\t\\t\\tutil.log(url);\\n\\t\\t\\t}\\n\\t\\t};\\n\\n\\t\\tvar callbackForInValid = function () {};\\n\\n\\t\\tnaver_corp_da.activeViews[uId] = naver_corp_da.activeViews[uId] || null;\\n\\n\\t\\tif(naver_corp_da.activeViews[uId]){\\n\\t\\t\\tnaver_corp_da.activeViews[uId].clearActiveView();\\n\\t\\t\\tnaver_corp_da.activeViews[uId] = null;\\n\\t\\t} \\n\\n\\t\\tnaver_corp_da.activeViews[uId] = new naver_corp_da.ActiveView({\\n\\t\\t\\tadDivId : uId,\\n\\t\\t\\tacEndDate : ac_end_date,\\n\\t\\t\\tadEndDate : ad_end_date,\\n\\t\\t\\tscrollTarget : scroll_target,\\n\\t\\t\\tactiveViewTime : 1000,\\n\\t\\t\\tactiveViewPercentage : 0.5,\\n\\t\\t\\torientationChangeTime : orientation_change_time,\\n\\t\\t\\tcallback : callback,\\n\\t\\t\\tcallbackForInValid : callbackForInValid\\n\\t\\t});\\n\\n\\t\\tnaver_corp_da.activeViews[uId].checkActiveView();\\n\\t}\\n})();', 500]\n",
      "['안정적 애착 관계, 부모 민감성을 길러야 한다고요', 501]\n",
      "['마음을 읽는 부모교육', 502]\n",
      "['부..', 503]\n",
      "[\"'야옹선생 자연육아' 독감은 왜 매년 접종해야 하나요\", 504]\n",
      "['전문의가 알려주는 건강', 505]\n",
      "['베..', 506]\n",
      "[\"잦은 기침과 쌕쌕거림.. 우리 아이 '천식'이 의심될 때\", 507]\n",
      "['전문의가 알려주는 건강', 508]\n",
      "['서..', 509]\n",
      "['멀리 보는 육아, 너의 미운 짓? 길어야 3년인데..', 510]\n",
      "['마음을 공유하다', 511]\n",
      "['뚜뜨', 512]\n",
      "['나의 중심에는.. 너로 인해 바뀐 엄마의 하루', 513]\n",
      "['마음을 공유하다', 514]\n",
      "['소원언니', 515]\n",
      "['\"안돼\", \"하지 마!\" 아이의 탐험 기회 빼앗지 마세요', 516]\n",
      "['책에서 배운 육아', 517]\n",
      "['황소북스', 518]\n",
      "[\"'우리 아이만 늦는 걸까?' 기저귀 떼는 배변 훈련 꿀팁\", 519]\n",
      "['책에서 배운 육아', 520]\n",
      "['길벗', 521]\n",
      "['1세 Q&A', 522]\n",
      "['\"손수건을 물고 자요\" 돌전 아이 유치 관리 실전 팁', 523]\n",
      "['연령별 육아 정보', 524]\n",
      "['앙쥬', 525]\n",
      "['2세 Q&A', 526]\n",
      "['환절기 아이 건강, 호흡기 건강에 좋은 유아식 레시피', 527]\n",
      "['연령별 육아 정보', 528]\n",
      "['앙쥬', 529]\n",
      "['3세 육아팁', 530]\n",
      "[\"공작 시간! 아이와 함께 상상 속 친구 '공룡' 만들기\", 531]\n",
      "['연령별 육아 정보', 532]\n",
      "['베스트베..', 533]\n",
      "['5세 육아팁', 534]\n",
      "['아빠랑 아이랑~ 함께라서 더욱 신나는 곳만 모았다', 535]\n",
      "['연령별 육아 정보', 536]\n",
      "['베스트베..', 537]\n",
      "['쇼핑캐스트 :', 538]\n",
      "['https://castbox.shopping.naver.com/shopbox/main.nhn?svgless=true', 539]\n",
      "['제2회 소상공인의날', 540]\n",
      "['우리동네 소상공인 축제', 541]\n",
      "['전국의 작은가게를 응원하고', 542]\n",
      "['다양한 혜택도 누리세요', 543]\n",
      "['중소벤처일자리박람회', 544]\n",
      "['우수기업 현장면접 기회', 545]\n",
      "['면접, 취업컨설팅, 이벤트', 546]\n",
      "['코엑스에서 취업득템', 547]\n",
      "['공지사항', 548]\n",
      "['(주)이스트소프트 계정 침해 대상자에 대한 안내', 549]\n",
      "['서비스 전체보기', 550]\n",
      "['프로젝트 꽃', 551]\n",
      "['바로가기', 552]\n",
      "['프로젝트 꽃', 553]\n",
      "['웨일 브라우저', 554]\n",
      "['다운받기', 555]\n",
      "['네이버웨일', 556]\n",
      "['Creators', 557]\n",
      "['크리에이터', 558]\n",
      "['스몰비즈니스', 559]\n",
      "['Partners', 560]\n",
      "['비즈니스 파트너 안내', 561]\n",
      "['비즈니스 · 광고', 562]\n",
      "['스토어 개설', 563]\n",
      "['지역업체 등록', 564]\n",
      "['Developers', 565]\n",
      "['네이버 개발자센터', 566]\n",
      "['오픈 API', 567]\n",
      "['오픈소스', 568]\n",
      "['네이버 D2', 569]\n",
      "['네이버 랩스', 570]\n",
      "['네이버 정책 및 약관', 571]\n",
      "['회사소개', 572]\n",
      "['인재채용', 573]\n",
      "['제휴제안', 574]\n",
      "['이용약관', 575]\n",
      "['개인정보처리방침', 576]\n",
      "['청소년보호정책', 577]\n",
      "['네이버 정책', 578]\n",
      "['고객센터', 579]\n",
      "['ⓒ', 580]\n",
      "['NAVER Corp.', 581]\n",
      "['\\n\\t\\tvar svr = \"', 582]\n",
      "['\";\\n\\t\\tvar svt = \"20171030232249\";\\n\\t\\tvar aPanelListAll;\\n\\t\\t\\n\\t\\tvar nmainJS = [\"https://s.pstatic.net/pm2/js/c/nmain_v171025.js\"];\\n\\t\\t\\n\\t\\tvar sThemecastAdScriptUrl = \\'https://ssl.pstatic.net/tveta/libs/assets/js/pc/main/min/pc.veta.core.min.js?20170914\\';\\n\\t\\tnmainJS.push(sThemecastAdScriptUrl);\\n\\n\\t\\tfunction loadJS() {\\n\\n\\t\\t\\tjindo.LazyLoading.load(nmainJS, function(){\\n\\t\\t\\t\\tif ( svr === \"', 583]\n",
      "['\" ) {\\n\\t\\t\\t\\t\\tJEagleEyeClient.setEnable(true);\\n\\t\\t\\t\\t}\\n\\n\\t\\t\\t\\tif(typeof initPage != \\'undefined\\') {\\n    \\t\\t\\t\\tinitPage();\\n\\t\\t\\t\\t}\\t\\n\\n\\t\\t\\t\\ttry {\\n\\t\\t\\t\\t\\taPanelListAll = [{\"openDate\":null,\"adMap\":null,\"code\":\"LIVINGHOME\",\"name\":\"리빙\",\"css\":\"livinghome\",\"nclick\":\"lif\"},{\"openDate\":null,\"adMap\":null,\"code\":\"LIVING\",\"name\":\"푸드\",\"css\":\"living\",\"nclick\":\"fod\"},{\"openDate\":null,\"adMap\":null,\"code\":\"SPORTS\",\"name\":\"스포츠\",\"css\":\"sports\",\"nclick\":\"spo\"},{\"openDate\":null,\"adMap\":null,\"code\":\"CARGAME\",\"name\":\"자동차\",\"css\":\"cargame\",\"nclick\":\"aut\"},{\"openDate\":null,\"adMap\":null,\"code\":\"BEAUTY\",\"name\":\"패션뷰티\",\"css\":\"beauty\",\"nclick\":\"bty\"},{\"openDate\":null,\"adMap\":null,\"code\":\"MOMKIDS\",\"name\":\"맘·키즈\",\"css\":\"momkids\",\"nclick\":\"mom\"},{\"openDate\":null,\"adMap\":null,\"code\":\"HEALTH\",\"name\":\"건강\",\"css\":\"health\",\"nclick\":\"hea\"},{\"openDate\":null,\"adMap\":null,\"code\":\"BBOOM\",\"name\":\"웹툰\",\"css\":\"bboom\",\"nclick\":\"web\"},{\"openDate\":null,\"adMap\":null,\"code\":\"GAMEAPP\",\"name\":\"게임\",\"css\":\"gameapp\",\"nclick\":\"gam\"},{\"openDate\":null,\"adMap\":null,\"code\":\"VIDEO\",\"name\":\"TV연예\",\"css\":\"video\",\"nclick\":\"tvc\"},{\"openDate\":null,\"adMap\":null,\"code\":\"MUSIC\",\"name\":\"뮤직\",\"css\":\"music\",\"nclick\":\"muc\"},{\"openDate\":null,\"adMap\":null,\"code\":\"MOVIE\",\"name\":\"영화\",\"css\":\"movie\",\"nclick\":\"mov\"},{\"openDate\":null,\"adMap\":null,\"code\":\"CULTURE\",\"name\":\"책문화\",\"css\":\"culture\",\"nclick\":\"bok\"},{\"openDate\":null,\"adMap\":null,\"code\":\"WITH\",\"name\":\"함께N\",\"css\":\"with\",\"nclick\":\"pub\"},{\"openDate\":null,\"adMap\":null,\"code\":\"TRAVEL\",\"name\":\"여행+\",\"css\":\"travel\",\"nclick\":\"tra\"},{\"openDate\":null,\"adMap\":null,\"code\":\"DESIGN\",\"name\":\"디자인\",\"css\":\"design\",\"nclick\":\"des\"},{\"openDate\":null,\"adMap\":null,\"code\":\"FINANCE\",\"name\":\"경제M\",\"css\":\"finance\",\"nclick\":\"fin\"},{\"openDate\":null,\"adMap\":null,\"code\":\"JOB\",\"name\":\"JOB&\",\"css\":\"job\",\"nclick\":\"job\"},{\"openDate\":null,\"adMap\":null,\"code\":\"SCIENCE\",\"name\":\"과학\",\"css\":\"science\",\"nclick\":\"sci\"},{\"openDate\":null,\"adMap\":null,\"code\":\"CHINA\",\"name\":\"중국\",\"css\":\"china\",\"nclick\":\"chn\"},{\"openDate\":null,\"adMap\":null,\"code\":\"BUSINESS\",\"name\":\"비즈니스\",\"css\":\"business\",\"nclick\":\"bsn\"},{\"openDate\":null,\"adMap\":null,\"code\":\"FARM\",\"name\":\"FARM\",\"css\":\"farm\",\"nclick\":\"far\"},{\"openDate\":null,\"adMap\":null,\"code\":\"SCHOOL\",\"name\":\"스쿨잼\",\"css\":\"school\",\"nclick\":\"scl\"},{\"openDate\":\"20170622\",\"adMap\":null,\"code\":\"SHOW\",\"name\":\"공연전시\",\"css\":\"show\",\"nclick\":\"sow\"},{\"openDate\":\"20170803\",\"adMap\":null,\"code\":\"LAW\",\"name\":\"법률\",\"css\":\"law\",\"nclick\":\"law\"},{\"openDate\":\"20170824\",\"adMap\":null,\"code\":\"ANIMAL\",\"name\":\"동물공감\",\"css\":\"animal\",\"nclick\":\"ani\"},{\"openDate\":\"20170831\",\"adMap\":null,\"code\":\"WEDDING\",\"name\":\"연애·결혼\",\"css\":\"wedding\",\"nclick\":\"wed\"},{\"openDate\":\"20170921\",\"adMap\":null,\"code\":\"ITTECH\",\"name\":\"테크\",\"css\":\"ittech\",\"nclick\":\"tec\"}]; \\n\\t\\t\\t\\t} catch(e) {\\n\\t\\t\\t\\t\\tJEagleEyeClient.sendError(\"invalid panel.json\");\\n\\t\\t\\t\\t}\\n\\t\\t\\t\\tnaver.main.PageRefresh.init();\\n\\n\\t\\t\\t\\tnaver.main.Panel.init(aPanelListAll);\\n\\n\\t\\t\\t\\tnaver.main.Log.init();\\n\\n\\t\\t\\t\\tnaver.main.ServiceNavi.init();\\n\\t\\t\\t\\tnaver.main.ThemecastNavi.init({\\n\\t\\t\\t\\t\\tbFlick: false,\\n\\t\\t\\t\\t\\tsAdList: \\'{\"header\":{\"msg\":\"success\",\"code\":0},\"body\":{\"adScriptList\":[{\"adScriptPCMain1\":{\"https\":\"https://ssl.pstatic.net/tveta/libs/assets/js/pc/main/min/pc.veta.core.min.js\",\"http\":\"https://ssl.pstatic.net/tveta/libs/assets/js/pc/main/min/pc.veta.core.min.js\"}}],\"adList\":[{\"menu\":\"BUSINESS\",\"adType\":\"singleDom\",\"multiDomAdUrl\":\"\",\"multiDomUnit\":\"\",\"infoList\":[{\"adposId\":\"1000084\",\"singleDomAdUrl\":\"http://nv.veta.naver.com/fxshow\",\"param\":{\"da_dom_id\":\"p_main_business_00\",\"tb\":\"BUSINESS_1\",\"unit\":\"SU10204\"},\"type\":{\"position\":\"rel\",\"positionIndex\":0,\"subject\":\"contents\"},\"dom\":null}]},{\"menu\":\"DESIGN\",\"adType\":\"singleDom\",\"multiDomAdUrl\":\"\",\"multiDomUnit\":\"\",\"infoList\":[{\"adposId\":\"1000090\",\"singleDomAdUrl\":\"http://nv.veta.naver.com/fxshow\",\"param\":{\"da_dom_id\":\"p_main_design_00\",\"tb\":\"DESIGN_1\",\"unit\":\"SU10205\"},\"type\":{\"position\":\"rel\",\"positionIndex\":0,\"subject\":\"contents\"},\"dom\":null}]},{\"menu\":\"JOB\",\"adType\":\"singleDom\",\"multiDomAdUrl\":\"\",\"multiDomUnit\":\"\",\"infoList\":[{\"adposId\":\"1000088\",\"singleDomAdUrl\":\"http://nv.veta.naver.com/fxshow\",\"param\":{\"da_dom_id\":\"p_main_job_00\",\"tb\":\"JOB_1\",\"unit\":\"SU10200\"},\"type\":{\"position\":\"rel\",\"positionIndex\":0,\"subject\":\"contents\"},\"dom\":null}]},{\"menu\":\"MOMKIDS\",\"adType\":\"singleDom\",\"multiDomAdUrl\":\"\",\"multiDomUnit\":\"\",\"infoList\":[{\"adposId\":\"1000089\",\"singleDomAdUrl\":\"http://nv.veta.naver.com/fxshow\",\"param\":{\"da_dom_id\":\"p_main_momkids_00\",\"tb\":\"MOMKIDS_1\",\"unit\":\"SU10226\"},\"type\":{\"position\":\"rel\",\"positionIndex\":0,\"subject\":\"contents\"},\"dom\":null}]},{\"menu\":\"MOVIE\",\"adType\":\"singleDom\",\"multiDomAdUrl\":\"\",\"multiDomUnit\":\"\",\"infoList\":[{\"adposId\":\"1000087\",\"singleDomAdUrl\":\"http://nv.veta.naver.com/fxshow\",\"param\":{\"da_dom_id\":\"p_main_movie_00\",\"tb\":\"MOVIE_1\",\"unit\":\"SU10199\"},\"type\":{\"position\":\"rel\",\"positionIndex\":0,\"subject\":\"contents\"},\"dom\":null}]},{\"menu\":\"SCHOOL\",\"adType\":\"singleDom\",\"multiDomAdUrl\":\"\",\"multiDomUnit\":\"\",\"infoList\":[{\"adposId\":\"1000085\",\"singleDomAdUrl\":\"http://nv.veta.naver.com/fxshow\",\"param\":{\"da_dom_id\":\"p_main_school_01\",\"tb\":\"SCHOOL_1\",\"unit\":\"SU10210\"},\"type\":{\"position\":\"rel\",\"positionIndex\":0,\"subject\":\"contents\"},\"dom\":null}]},{\"menu\":\"TRAVEL\",\"adType\":\"singleDom\",\"multiDomAdUrl\":\"\",\"multiDomUnit\":\"\",\"infoList\":[{\"adposId\":\"1000086\",\"singleDomAdUrl\":\"http://nv.veta.naver.com/fxshow\",\"param\":{\"da_dom_id\":\"p_main_travel_00\",\"tb\":\"TRAVEL_1\",\"unit\":\"SU10198\"},\"type\":{\"position\":\"rel\",\"positionIndex\":0,\"subject\":\"contents\"},\"dom\":null}]}]}}\\'\\n\\t\\t\\t\\t});\\n\\t\\t\\t\\tnaver.main.CenterBanner.init();\\n\\t\\t\\t\\tnewSmartSearch();\\n\\t\\n\\t\\t\\t\\tnew naver.main.Newsstand({\\n\\t\\t\\t\\t\\trcode : \"17110114\",\\n        \\t\\t    newspaperURL : \"newspaper.naver.com\",\\n            \\t\\tnewsStandURL : \"newsstand.naver.com\",\\n\\t\\t            userInfoURL : \"userinfo.www.naver.com\",\\n    \\t\\t        newsCastInfo : \"\",\\n        \\t\\t    newsStandInfo : \"\",\\n            \\t\\theadlineList : {\"pid\" : [\"002\",\"003\",\"005\",\"006\",\"008\",\"009\",\"011\",\"013\",\"014\",\"015\",\"016\",\"018\",\"020\",\"021\",\"022\",\"023\",\"024\",\"025\",\"028\",\"029\",\"030\",\"031\",\"032\",\"038\",\"040\",\"042\",\"044\",\"047\",\"050\",\"052\",\"055\",\"056\",\"057\",\"073\",\"075\",\"076\",\"079\",\"081\",\"082\",\"083\",\"087\",\"088\",\"089\",\"092\",\"108\",\"109\",\"117\",\"120\",\"122\",\"123\",\"135\",\"138\",\"139\",\"140\",\"143\",\"144\",\"213\",\"214\",\"215\",\"241\",\"243\",\"277\",\"293\",\"296\",\"308\",\"310\",\"311\",\"312\",\"314\",\"326\",\"327\",\"328\",\"329\",\"330\",\"331\",\"332\",\"333\",\"334\",\"335\",\"336\",\"337\",\"338\",\"339\",\"340\",\"344\",\"345\",\"346\",\"354\",\"355\",\"356\",\"361\",\"362\",\"363\",\"364\",\"366\",\"368\",\"374\",\"376\",\"384\",\"385\",\"386\",\"387\",\"388\",\"389\",\"390\",\"391\",\"396\",\"404\",\"410\",\"416\",\"417\",\"421\",\"422\",\"440\",\"447\",\"536\",\"539\",\"901\",\"902\",\"903\",\"904\",\"905\",\"906\",\"907\",\"908\",\"909\",\"910\",\"911\",\"912\",\"913\",\"914\",\"915\",\"916\",\"917\",\"920\",\"921\",\"922\",\"923\",\"924\",\"925\",\"926\",\"927\",\"928\",\"930\",\"931\",\"932\",\"933\",\"934\",\"935\",\"936\",\"937\",\"938\",\"939\",\"940\",\"941\",\"942\",\"943\",\"944\",\"945\",\"946\",\"947\",\"948\",\"949\"], \"amigo\" : [], \"invalid\" : []},\\n\\t\\t\\t\\t\\tpressCategory : {\"ct1\":[{\"pid\":\"032\",\"name\":\"경향신문\",\"img\":\"https://s.pstatic.net/static/newsstand/up/2017/0424/nsd14372435.png\",\"cate\":\"ct2\",\"amigo\":\"N\",\"viewer\":\"Y\",\"today\":\"N\",\"local\":null},{\"pid\":\"005\",\"name\":\"국민일보\",\"img\":\"https://s.pstatic.net/static/newsstand/up/2017/0424/nsd1438916.png\",\"cate\":\"ct2\",\"amigo\":\"N\",\"viewer\":\"Y\",\"today\":\"N\",\"local\":null},{\"pid\":\"079\",\"name\":\"노컷뉴스\",\"img\":\"https://s.pstatic.net/static/newsstand/up/2017/0424/nsd143958887.png\",\"cate\":\"ct2\",\"amigo\":\"N\",\"viewer\":\"Y\",\"today\":\"N\",\"local\":null},{\"pid\":\"327\",\"name\":\"뉴데일리\",\"img\":\"https://s.pstatic.net/static/newsstand/up/2017/0424/nsd144037935.png\",\"cate\":\"ct2\",\"amigo\":\"N\",\"viewer\":\"Y\",\"today\":\"N\",\"local\":null},{\"pid\":\"003\",\"name\":\"뉴시스\",\"img\":\"https://s.pstatic.net/static/newsstand/up/2017/0424/nsd14449981.png\",\"cate\":\"ct3\",\"amigo\":\"N\",\"viewer\":\"Y\",\"today\":\"N\",\"local\":null},{\"pid\":\"368\",\"name\":\"데일리안\",\"img\":\"https://s.pstatic.net/static/newsstand/up/2017/0424/nsd14463367.png\",\"cate\":\"ct2\",\"amigo\":\"N\",\"viewer\":\"Y\",\"today\":\"N\",\"local\":null},{\"pid\":\"020\",\"name\":\"동아일보\",\"img\":\"https://s.pstatic.net/static/newsstand/up/2017/0424/nsd14479875.png\",\"cate\":\"ct2\",\"amigo\":\"N\",\"viewer\":\"Y\",\"today\":\"N\",\"local\":null},{\"pid\":\"029\",\"name\":\"디지털타임스\",\"img\":\"https://s.pstatic.net/static/newsstand/up/2017/0424/nsd144824356.png\",\"cate\":\"ct4\",\"amigo\":\"N\",\"viewer\":\"Y\",\"today\":\"N\",\"local\":null},{\"pid\":\"117\",\"name\":\"마이데일리\",\"img\":\"https://s.pstatic.net/static/newsstand/up/2017/0424/nsd144944309.png\",\"cate\":\"ct6\",\"amigo\":\"N\",\"viewer\":\"Y\",\"today\":\"N\",\"local\":null},{\"pid\":\"009\",\"name\":\"매일경제\",\"img\":\"https://s.pstatic.net/static/newsstand/up/2017/0424/nsd145032565.png\",\"cate\":\"ct2\",\"amigo\":\"N\",\"viewer\":\"Y\",\"today\":\"N\",\"local\":null},{\"pid\":\"008\",\"name\":\"머니투데이\",\"img\":\"https://s.pstatic.net/static/newsstand/up/2017/0424/nsd145214517.png\",\"cate\":\"ct2\",\"amigo\":\"N\",\"viewer\":\"Y\",\"today\":\"N\",\"local\":null},{\"pid\":\"021\",\"name\":\"문화일보\",\"img\":\"https://s.pstatic.net/static/newsstand/up/2017/0424/nsd19245981.png\",\"cate\":\"ct2\",\"amigo\":\"N\",\"viewer\":\"Y\",\"today\":\"N\",\"local\":null},{\"pid\":\"006\",\"name\":\"미디어오늘\",\"img\":\"https://s.pstatic.net/static/newsstand/up/2017/0424/nsd145346617.png\",\"cate\":\"ct2\",\"amigo\":\"N\",\"viewer\":\"Y\",\"today\":\"N\",\"local\":null},{\"pid\":\"293\",\"name\":\"블로터\",\"img\":\"https://s.pstatic.net/static/newsstand/up/2017/0424/nsd145534698.png\",\"cate\":\"ct4\",\"amigo\":\"N\",\"viewer\":\"Y\",\"today\":\"N\",\"local\":null},{\"pid\":\"011\",\"name\":\"서울경제\",\"img\":\"https://s.pstatic.net/static/newsstand/up/2017/0424/nsd145718601.png\",\"cate\":\"ct2\",\"amigo\":\"N\",\"viewer\":\"Y\",\"today\":\"N\",\"local\":null},{\"pid\":\"081\",\"name\":\"서울신문\",\"img\":\"https://s.pstatic.net/static/newsstand/up/2017/0424/nsd145738195.png\",\"cate\":\"ct2\",\"amigo\":\"N\",\"viewer\":\"Y\",\"today\":\"N\",\"local\":null},{\"pid\":\"022\",\"name\":\"세계일보\",\"img\":\"https://s.pstatic.net/static/newsstand/up/2017/0424/nsd145813557.png\",\"cate\":\"ct2\",\"amigo\":\"N\",\"viewer\":\"Y\",\"today\":\"N\",\"local\":null},{\"pid\":\"314\",\"name\":\"스포츠동아\",\"img\":\"https://s.pstatic.net/static/newsstand/up/2017/0424/nsd145951763.png\",\"cate\":\"ct6\",\"amigo\":\"N\",\"viewer\":\"Y\",\"today\":\"N\",\"local\":null},{\"pid\":\"076\",\"name\":\"스포츠조선\",\"img\":\"https://s.pstatic.net/static/newsstand/up/2017/0424/nsd183553864.png\",\"cate\":\"ct6\",\"amigo\":\"N\",\"viewer\":\"Y\",\"today\":\"N\",\"local\":null},{\"pid\":\"139\",\"name\":\"스포탈코리아\",\"img\":\"https://s.pstatic.net/static/newsstand/up/2017/0424/nsd151840663.png\",\"cate\":\"ct6\",\"amigo\":\"N\",\"viewer\":\"Y\",\"today\":\"N\",\"local\":null},{\"pid\":\"277\",\"name\":\"아시아경제\",\"img\":\"https://s.pstatic.net/static/newsstand/up/2017/0424/nsd153432228.png\",\"cate\":\"ct2\",\"amigo\":\"N\",\"viewer\":\"Y\",\"today\":\"N\",\"local\":null},{\"pid\":\"031\",\"name\":\"아이뉴스24\",\"img\":\"https://s.pstatic.net/static/newsstand/up/2017/0424/nsd153955864.png\",\"cate\":\"ct4\",\"amigo\":\"N\",\"viewer\":\"Y\",\"today\":\"N\",\"local\":null},{\"pid\":\"047\",\"name\":\"오마이뉴스\",\"img\":\"https://s.pstatic.net/static/newsstand/up/2017/0424/nsd154314463.png\",\"cate\":\"ct2\",\"amigo\":\"N\",\"viewer\":\"Y\",\"today\":\"N\",\"local\":null},{\"pid\":\"018\",\"name\":\"이데일리\",\"img\":\"https://s.pstatic.net/static/newsstand/up/2017/0424/nsd154426359.png\",\"cate\":\"ct2\",\"amigo\":\"N\",\"viewer\":\"Y\",\"today\":\"N\",\"local\":null},{\"pid\":\"241\",\"name\":\"일간스포츠\",\"img\":\"https://s.pstatic.net/static/newsstand/up/2017/0424/nsd154619739.png\",\"cate\":\"ct6\",\"amigo\":\"N\",\"viewer\":\"Y\",\"today\":\"N\",\"local\":null},{\"pid\":\"030\",\"name\":\"전자신문\",\"img\":\"https://s.pstatic.net/static/newsstand/up/2017/0424/nsd162528724.png\",\"cate\":\"ct4\",\"amigo\":\"N\",\"viewer\":\"Y\",\"today\":\"N\",\"local\":null},{\"pid\":\"366\",\"name\":\"조선비즈\",\"img\":\"https://s.pstatic.net/static/newsstand/up/2017/0424/nsd162659528.png\",\"cate\":\"ct2\",\"amigo\":\"N\",\"viewer\":\"Y\",\"today\":\"N\",\"local\":null},{\"pid\":\"023\",\"name\":\"조선일보\",\"img\":\"https://s.pstatic.net/static/newsstand/up/2017/0424/nsd162718792.png\",\"cate\":\"ct2\",\"amigo\":\"N\",\"viewer\":\"Y\",\"today\":\"N\",\"local\":null},{\"pid\":\"330\",\"name\":\"중앙데일리\",\"img\":\"https://s.pstatic.net/static/newsstand/up/2017/0424/nsd162959945.png\",\"cate\":\"ct5\",\"amigo\":\"N\",\"viewer\":\"Y\",\"today\":\"N\",\"local\":null},{\"pid\":\"025\",\"name\":\"중앙일보\",\"img\":\"https://s.pstatic.net/static/newsstand/up/2017/0424/nsd164240664.png\",\"cate\":\"ct2\",\"amigo\":\"N\",\"viewer\":\"Y\",\"today\":\"N\",\"local\":null},{\"pid\":\"092\",\"name\":\"지디넷코리아\",\"img\":\"https://s.pstatic.net/static/newsstand/up/2017/0424/nsd16425834.png\",\"cate\":\"ct4\",\"amigo\":\"N\",\"viewer\":\"Y\",\"today\":\"N\",\"local\":null},{\"pid\":\"376\",\"name\":\"지지통신\",\"img\":\"https://s.pstatic.net/static/newsstand/up/2017/0424/nsd16432873.png\",\"cate\":\"ct3\",\"amigo\":\"N\",\"viewer\":\"Y\",\"today\":\"N\",\"local\":null},{\"pid\":\"040\",\"name\":\"코리아타임스\",\"img\":\"https://s.pstatic.net/static/newsstand/up/2017/0424/nsd1729401.png\",\"cate\":\"ct5\",\"amigo\":\"N\",\"viewer\":\"Y\",\"today\":\"N\",\"local\":null},{\"pid\":\"044\",\"name\":\"코리아헤럴드\",\"img\":\"https://s.pstatic.net/static/newsstand/up/2017/0424/nsd17341942.png\",\"cate\":\"ct5\",\"amigo\":\"N\",\"viewer\":\"Y\",\"today\":\"N\",\"local\":null},{\"pid\":\"014\",\"name\":\"파이낸셜뉴스\",\"img\":\"https://s.pstatic.net/static/newsstand/up/2017/0424/nsd172557496.png\",\"cate\":\"ct2\",\"amigo\":\"N\",\"viewer\":\"Y\",\"today\":\"N\",\"local\":null},{\"pid\":\"002\",\"name\":\"프레시안\",\"img\":\"https://s.pstatic.net/static/newsstand/up/2017/0424/nsd172615885.png\",\"cate\":\"ct2\",\"amigo\":\"N\",\"viewer\":\"Y\",\"today\":\"N\",\"local\":null},{\"pid\":\"028\",\"name\":\"한겨레\",\"img\":\"https://s.pstatic.net/static/newsstand/up/2017/0424/nsd17263596.png\",\"cate\":\"ct2\",\"amigo\":\"N\",\"viewer\":\"Y\",\"today\":\"N\",\"local\":null},{\"pid\":\"015\",\"name\":\"한국경제\",\"img\":\"https://s.pstatic.net/static/newsstand/up/2017/0424/nsd172736175.png\",\"cate\":\"ct2\",\"amigo\":\"N\",\"viewer\":\"Y\",\"today\":\"N\",\"local\":null},{\"pid\":\"215\",\"name\":\"한국경제TV\",\"img\":\"https://s.pstatic.net/static/newsstand/up/2017/0424/nsd172755139.png\",\"cate\":\"ct3\",\"amigo\":\"N\",\"viewer\":\"Y\",\"today\":\"N\",\"local\":null},{\"pid\":\"038\",\"name\":\"한국일보\",\"img\":\"https://s.pstatic.net/static/newsstand/up/2017/0424/nsd172837200.png\",\"cate\":\"ct2\",\"amigo\":\"N\",\"viewer\":\"Y\",\"today\":\"N\",\"local\":null},{\"pid\":\"016\",\"name\":\"헤럴드경제\",\"img\":\"https://s.pstatic.net/static/newsstand/up/2017/0424/nsd172855569.png\",\"cate\":\"ct2\",\"amigo\":\"N\",\"viewer\":\"Y\",\"today\":\"N\",\"local\":null},{\"pid\":\"056\",\"name\":\"KBS\",\"img\":\"https://s.pstatic.net/static/newsstand/up/2017/0424/nsd173124306.png\",\"cate\":\"ct3\",\"amigo\":\"N\",\"viewer\":\"Y\",\"today\":\"N\",\"local\":null},{\"pid\":\"326\",\"name\":\"KBS World\",\"img\":\"https://s.pstatic.net/static/newsstand/up/2017/0424/nsd173138949.png\",\"cate\":\"ct5\",\"amigo\":\"N\",\"viewer\":\"Y\",\"today\":\"N\",\"local\":null},{\"pid\":\"214\",\"name\":\"MBC\",\"img\":\"https://s.pstatic.net/static/newsstand/up/2017/0424/nsd17324940.png\",\"cate\":\"ct3\",\"amigo\":\"N\",\"viewer\":\"Y\",\"today\":\"N\",\"local\":null},{\"pid\":\"057\",\"name\":\"MBN\",\"img\":\"https://s.pstatic.net/static/newsstand/up/2017/0424/nsd173223533.png\",\"cate\":\"ct3\",\"amigo\":\"N\",\"viewer\":\"Y\",\"today\":\"N\",\"local\":null},{\"pid\":\"109\",\"name\":\"OSEN\",\"img\":\"https://s.pstatic.net/static/newsstand/up/2017/0424/nsd17338859.png\",\"cate\":\"ct6\",\"amigo\":\"N\",\"viewer\":\"Y\",\"today\":\"N\",\"local\":null},{\"pid\":\"055\",\"name\":\"SBS\",\"img\":\"https://s.pstatic.net/static/newsstand/up/2017/0424/nsd173335676.png\",\"cate\":\"ct3\",\"amigo\":\"N\",\"viewer\":\"Y\",\"today\":\"N\",\"local\":null},{\"pid\":\"052\",\"name\":\"YTN\",\"img\":\"https://s.pstatic.net/static/newsstand/up/2017/0424/nsd173559874.png\",\"cate\":\"ct3\",\"amigo\":\"N\",\"viewer\":\"Y\",\"today\":\"N\",\"local\":null}],\"ct2\":[{\"pid\":\"032\",\"name\":\"경향신문\",\"img\":\"https://s.pstatic.net/static/newsstand/up/2017/0424/nsd14372435.png\",\"cate\":\"ct2\",\"amigo\":\"N\",\"viewer\":\"Y\",\"today\":\"N\",\"local\":null},{\"pid\":\"005\",\"name\":\"국민일보\",\"img\":\"https://s.pstatic.net/static/newsstand/up/2017/0424/nsd1438916.png\",\"cate\":\"ct2\",\"amigo\":\"N\",\"viewer\":\"Y\",\"today\":\"N\",\"local\":null},{\"pid\":\"944\",\"name\":\"나우뉴스\",\"img\":\"https://s.pstatic.net/static/newsstand/up/2017/0424/nsd14392079.png\",\"cate\":\"ct2\",\"amigo\":\"N\",\"viewer\":\"Y\",\"today\":\"N\",\"local\":null},{\"pid\":\"079\",\"name\":\"노컷뉴스\",\"img\":\"https://s.pstatic.net/static/newsstand/up/2017/0424/nsd143958887.png\",\"cate\":\"ct2\",\"amigo\":\"N\",\"viewer\":\"Y\",\"today\":\"N\",\"local\":null},{\"pid\":\"327\",\"name\":\"뉴데일리\",\"img\":\"https://s.pstatic.net/static/newsstand/up/2017/0424/nsd144037935.png\",\"cate\":\"ct2\",\"amigo\":\"N\",\"viewer\":\"Y\",\"today\":\"N\",\"local\":null},{\"pid\":\"930\",\"name\":\"뉴스타파\",\"img\":\"https://s.pstatic.net/static/newsstand/up/2017/0424/nsd144152433.png\",\"cate\":\"ct2\",\"amigo\":\"N\",\"viewer\":\"Y\",\"today\":\"N\",\"local\":null},{\"pid\":\"913\",\"name\":\"뉴스토마토\",\"img\":\"https://s.pstatic.net/static/newsstand/up/2017/0424/nsd14431117.png\",\"cate\":\"ct2\",\"amigo\":\"N\",\"viewer\":\"Y\",\"today\":\"N\",\"local\":null},{\"pid\":\"914\",\"name\":\"뉴스핌\",\"img\":\"https://s.pstatic.net/static/newsstand/up/2017/0613/nsd173430698.png\",\"cate\":\"ct2\",\"amigo\":\"N\",\"viewer\":\"Y\",\"today\":\"N\",\"local\":null},{\"pid\":\"536\",\"name\":\"더팩트\",\"img\":\"https://s.pstatic.net/static/newsstand/up/2017/0424/nsd144543120.png\",\"cate\":\"ct2\",\"amigo\":\"N\",\"viewer\":\"Y\",\"today\":\"N\",\"local\":null},{\"pid\":\"368\",\"name\":\"데일리안\",\"img\":\"https://s.pstatic.net/static/newsstand/up/2017/0424/nsd14463367.png\",\"cate\":\"ct2\",\"amigo\":\"N\",\"viewer\":\"Y\",\"today\":\"N\",\"local\":null},{\"pid\":\"020\",\"name\":\"동아일보\",\"img\":\"https://s.pstatic.net/static/newsstand/up/2017/0424/nsd14479875.png\",\"cate\":\"ct2\",\"amigo\":\"N\",\"viewer\":\"Y\",\"today\":\"N\",\"local\":null},{\"pid\":\"009\",\"name\":\"매일경제\",\"img\":\"https://s.pstatic.net/static/newsstand/up/2017/0424/nsd145032565.png\",\"cate\":\"ct2\",\"amigo\":\"N\",\"viewer\":\"Y\",\"today\":\"N\",\"local\":null},{\"pid\":\"008\",\"name\":\"머니투데이\",\"img\":\"https://s.pstatic.net/static/newsstand/up/2017/0424/nsd145214517.png\",\"cate\":\"ct2\",\"amigo\":\"N\",\"viewer\":\"Y\",\"today\":\"N\",\"local\":null},{\"pid\":\"021\",\"name\":\"문화일보\",\"img\":\"https://s.pstatic.net/static/newsstand/up/2017/0424/nsd19245981.png\",\"cate\":\"ct2\",\"amigo\":\"N\",\"viewer\":\"Y\",\"today\":\"N\",\"local\":null},{\"pid\":\"006\",\"name\":\"미디어오늘\",\"img\":\"https://s.pstatic.net/static/newsstand/up/2017/0424/nsd145346617.png\",\"cate\":\"ct2\",\"amigo\":\"N\",\"viewer\":\"Y\",\"today\":\"N\",\"local\":null},{\"pid\":\"931\",\"name\":\"민중의소리\",\"img\":\"https://s.pstatic.net/static/newsstand/up/2017/0424/nsd14546867.png\",\"cate\":\"ct2\",\"amigo\":\"N\",\"viewer\":\"Y\",\"today\":\"N\",\"local\":null},{\"pid\":\"939\",\"name\":\"브릿지경제\",\"img\":\"https://s.pstatic.net/static/newsstand/up/2017/0424/nsd145512265.png\",\"cate\":\"ct2\",\"amigo\":\"N\",\"viewer\":\"Y\",\"today\":\"N\",\"local\":null},{\"pid\":\"943\",\"name\":\"비즈니스워치\",\"img\":\"https://s.pstatic.net/static/newsstand/up/2017/0424/nsd145553365.png\",\"cate\":\"ct2\",\"amigo\":\"N\",\"viewer\":\"Y\",\"today\":\"N\",\"local\":null},{\"pid\":\"942\",\"name\":\"비즈니스포스트\",\"img\":\"https://s.pstatic.net/static/newsstand/up/2017/0424/nsd145630550.png\",\"cate\":\"ct2\",\"amigo\":\"N\",\"viewer\":\"Y\",\"today\":\"N\",\"local\":null},{\"pid\":\"011\",\"name\":\"서울경제\",\"img\":\"https://s.pstatic.net/static/newsstand/up/2017/0424/nsd145718601.png\",\"cate\":\"ct2\",\"amigo\":\"N\",\"viewer\":\"Y\",\"today\":\"N\",\"local\":null},{\"pid\":\"081\",\"name\":\"서울신문\",\"img\":\"https://s.pstatic.net/static/newsstand/up/2017/0424/nsd145738195.png\",\"cate\":\"ct2\",\"amigo\":\"N\",\"viewer\":\"Y\",\"today\":\"N\",\"local\":null},{\"pid\":\"022\",\"name\":\"세계일보\",\"img\":\"https://s.pstatic.net/static/newsstand/up/2017/0424/nsd145813557.png\",\"cate\":\"ct2\",\"amigo\":\"N\",\"viewer\":\"Y\",\"today\":\"N\",\"local\":null},{\"pid\":\"277\",\"name\":\"아시아경제\",\"img\":\"https://s.pstatic.net/static/newsstand/up/2017/0424/nsd153432228.png\",\"cate\":\"ct2\",\"amigo\":\"N\",\"viewer\":\"Y\",\"today\":\"N\",\"local\":null},{\"pid\":\"920\",\"name\":\"아시아투데이\",\"img\":\"https://s.pstatic.net/static/newsstand/up/2017/0424/nsd153458161.png\",\"cate\":\"ct2\",\"amigo\":\"N\",\"viewer\":\"Y\",\"today\":\"N\",\"local\":null},{\"pid\":\"921\",\"name\":\"아주경제\",\"img\":\"https://s.pstatic.net/static/newsstand/up/2017/0424/nsd154016764.png\",\"cate\":\"ct2\",\"amigo\":\"N\",\"viewer\":\"Y\",\"today\":\"N\",\"local\":null},{\"pid\":\"013\",\"name\":\"연합인포맥스\",\"img\":\"https://s.pstatic.net/static/newsstand/up/2017/0424/nsd154238686.png\",\"cate\":\"ct2\",\"amigo\":\"N\",\"viewer\":\"Y\",\"today\":\"N\",\"local\":null},{\"pid\":\"047\",\"name\":\"오마이뉴스\",\"img\":\"https://s.pstatic.net/static/newsstand/up/2017/0424/nsd154314463.png\",\"cate\":\"ct2\",\"amigo\":\"N\",\"viewer\":\"Y\",\"today\":\"N\",\"local\":null},{\"pid\":\"539\",\"name\":\"위키트리\",\"img\":\"https://s.pstatic.net/static/newsstand/up/2017/0424/nsd15444343.png\",\"cate\":\"ct2\",\"amigo\":\"N\",\"viewer\":\"Y\",\"today\":\"N\",\"local\":null},{\"pid\":\"018\",\"name\":\"이데일리\",\"img\":\"https://s.pstatic.net/static/newsstand/up/2017/0424/nsd154426359.png\",\"cate\":\"ct2\",\"amigo\":\"N\",\"viewer\":\"Y\",\"today\":\"N\",\"local\":null},{\"pid\":\"243\",\"name\":\"이코노미스트\",\"img\":\"https://s.pstatic.net/static/newsstand/up/2017/0424/nsd15444742.png\",\"cate\":\"ct2\",\"amigo\":\"N\",\"viewer\":\"Y\",\"today\":\"N\",\"local\":null},{\"pid\":\"922\",\"name\":\"이투데이\",\"img\":\"https://s.pstatic.net/static/newsstand/up/2017/0424/nsd15453589.png\",\"cate\":\"ct2\",\"amigo\":\"N\",\"viewer\":\"Y\",\"today\":\"N\",\"local\":null},{\"pid\":\"923\",\"name\":\"인민망\",\"img\":\"https://s.pstatic.net/static/newsstand/up/2017/0424/nsd154522345.png\",\"cate\":\"ct2\",\"amigo\":\"N\",\"viewer\":\"Y\",\"today\":\"N\",\"local\":null},{\"pid\":\"925\",\"name\":\"일요신문\",\"img\":\"https://s.pstatic.net/static/newsstand/up/2017/0424/nsd192546763.png\",\"cate\":\"ct2\",\"amigo\":\"N\",\"viewer\":\"Y\",\"today\":\"N\",\"local\":null},{\"pid\":\"366\",\"name\":\"조선비즈\",\"img\":\"https://s.pstatic.net/static/newsstand/up/2017/0424/nsd162659528.png\",\"cate\":\"ct2\",\"amigo\":\"N\",\"viewer\":\"Y\",\"today\":\"N\",\"local\":null},{\"pid\":\"023\",\"name\":\"조선일보\",\"img\":\"https://s.pstatic.net/static/newsstand/up/2017/0424/nsd162718792.png\",\"cate\":\"ct2\",\"amigo\":\"N\",\"viewer\":\"Y\",\"today\":\"N\",\"local\":null},{\"pid\":\"025\",\"name\":\"중앙일보\",\"img\":\"https://s.pstatic.net/static/newsstand/up/2017/0424/nsd164240664.png\",\"cate\":\"ct2\",\"amigo\":\"N\",\"viewer\":\"Y\",\"today\":\"N\",\"local\":null},{\"pid\":\"941\",\"name\":\"초이스경제\",\"img\":\"https://s.pstatic.net/static/newsstand/up/2017/0424/nsd164431529.png\",\"cate\":\"ct2\",\"amigo\":\"N\",\"viewer\":\"Y\",\"today\":\"N\",\"local\":null},{\"pid\":\"143\",\"name\":\"쿠키뉴스\",\"img\":\"https://s.pstatic.net/static/newsstand/up/2017/0424/nsd172415111.png\",\"cate\":\"ct2\",\"amigo\":\"N\",\"viewer\":\"Y\",\"today\":\"N\",\"local\":null},{\"pid\":\"014\",\"name\":\"파이낸셜뉴스\",\"img\":\"https://s.pstatic.net/static/newsstand/up/2017/0424/nsd172557496.png\",\"cate\":\"ct2\",\"amigo\":\"N\",\"viewer\":\"Y\",\"today\":\"N\",\"local\":null},{\"pid\":\"002\",\"name\":\"프레시안\",\"img\":\"https://s.pstatic.net/static/newsstand/up/2017/0424/nsd172615885.png\",\"cate\":\"ct2\",\"amigo\":\"N\",\"viewer\":\"Y\",\"today\":\"N\",\"local\":null},{\"pid\":\"028\",\"name\":\"한겨레\",\"img\":\"https://s.pstatic.net/static/newsstand/up/2017/0424/nsd17263596.png\",\"cate\":\"ct2\",\"amigo\":\"N\",\"viewer\":\"Y\",\"today\":\"N\",\"local\":null},{\"pid\":\"015\",\"name\":\"한국경제\",\"img\":\"https://s.pstatic.net/static/newsstand/up/2017/0424/nsd172736175.png\",\"cate\":\"ct2\",\"amigo\":\"N\",\"viewer\":\"Y\",\"today\":\"N\",\"local\":null},{\"pid\":\"038\",\"name\":\"한국일보\",\"img\":\"https://s.pstatic.net/static/newsstand/up/2017/0424/nsd172837200.png\",\"cate\":\"ct2\",\"amigo\":\"N\",\"viewer\":\"Y\",\"today\":\"N\",\"local\":null},{\"pid\":\"016\",\"name\":\"헤럴드경제\",\"img\":\"https://s.pstatic.net/static/newsstand/up/2017/0424/nsd172855569.png\",\"cate\":\"ct2\",\"amigo\":\"N\",\"viewer\":\"Y\",\"today\":\"N\",\"local\":null},{\"pid\":\"932\",\"name\":\"CEO스코어데일리\",\"img\":\"https://s.pstatic.net/static/newsstand/up/2017/0904/nsd10420716.png\",\"cate\":\"ct2\",\"amigo\":\"N\",\"viewer\":\"Y\",\"today\":\"N\",\"local\":null},{\"pid\":\"120\",\"name\":\"EBN\",\"img\":\"https://s.pstatic.net/static/newsstand/up/2017/1017/nsd173540697.png\",\"cate\":\"ct2\",\"amigo\":\"N\",\"viewer\":\"Y\",\"today\":\"N\",\"local\":null}],\"ct3\":[{\"pid\":\"421\",\"name\":\"뉴스1\",\"img\":\"https://s.pstatic.net/static/newsstand/up/2017/0424/nsd14405515.png\",\"cate\":\"ct3\",\"amigo\":\"N\",\"viewer\":\"Y\",\"today\":\"N\",\"local\":null},{\"pid\":\"003\",\"name\":\"뉴시스\",\"img\":\"https://s.pstatic.net/static/newsstand/up/2017/0424/nsd14449981.png\",\"cate\":\"ct3\",\"amigo\":\"N\",\"viewer\":\"Y\",\"today\":\"N\",\"local\":null},{\"pid\":\"916\",\"name\":\"머니투데이방송\",\"img\":\"https://s.pstatic.net/static/newsstand/up/2017/0424/nsd145249746.png\",\"cate\":\"ct3\",\"amigo\":\"N\",\"viewer\":\"Y\",\"today\":\"N\",\"local\":null},{\"pid\":\"934\",\"name\":\"아리랑TV\",\"img\":\"https://s.pstatic.net/static/newsstand/up/2017/0424/nsd153357809.png\",\"cate\":\"ct3\",\"amigo\":\"N\",\"viewer\":\"Y\",\"today\":\"N\",\"local\":null},{\"pid\":\"422\",\"name\":\"연합뉴스TV\",\"img\":\"https://s.pstatic.net/static/newsstand/up/2017/0424/nsd154219877.png\",\"cate\":\"ct3\",\"amigo\":\"N\",\"viewer\":\"Y\",\"today\":\"N\",\"local\":null},{\"pid\":\"376\",\"name\":\"지지통신\",\"img\":\"https://s.pstatic.net/static/newsstand/up/2017/0424/nsd16432873.png\",\"cate\":\"ct3\",\"amigo\":\"N\",\"viewer\":\"Y\",\"today\":\"N\",\"local\":null},{\"pid\":\"903\",\"name\":\"채널에이\",\"img\":\"https://s.pstatic.net/static/newsstand/up/2017/0424/nsd164352456.png\",\"cate\":\"ct3\",\"amigo\":\"N\",\"viewer\":\"Y\",\"today\":\"N\",\"local\":null},{\"pid\":\"215\",\"name\":\"한국경제TV\",\"img\":\"https://s.pstatic.net/static/newsstand/up/2017/0424/nsd172755139.png\",\"cate\":\"ct3\",\"amigo\":\"N\",\"viewer\":\"Y\",\"today\":\"N\",\"local\":null},{\"pid\":\"938\",\"name\":\"환경TV\",\"img\":\"https://s.pstatic.net/static/newsstand/up/2017/0424/nsd172938871.png\",\"cate\":\"ct3\",\"amigo\":\"N\",\"viewer\":\"Y\",\"today\":\"N\",\"local\":null},{\"pid\":\"933\",\"name\":\"CNN\",\"img\":\"https://s.pstatic.net/static/newsstand/up/2017/0424/nsd173010586.png\",\"cate\":\"ct3\",\"amigo\":\"N\",\"viewer\":\"Y\",\"today\":\"N\",\"local\":null},{\"pid\":\"344\",\"name\":\"EBS\",\"img\":\"https://s.pstatic.net/static/newsstand/up/2017/0424/nsd173043431.png\",\"cate\":\"ct3\",\"amigo\":\"N\",\"viewer\":\"Y\",\"today\":\"N\",\"local\":null},{\"pid\":\"904\",\"name\":\"JTBC\",\"img\":\"https://s.pstatic.net/static/newsstand/up/2017/0424/nsd173111263.png\",\"cate\":\"ct3\",\"amigo\":\"N\",\"viewer\":\"Y\",\"today\":\"N\",\"local\":null},{\"pid\":\"056\",\"name\":\"KBS\",\"img\":\"https://s.pstatic.net/static/newsstand/up/2017/0424/nsd173124306.png\",\"cate\":\"ct3\",\"amigo\":\"N\",\"viewer\":\"Y\",\"today\":\"N\",\"local\":null},{\"pid\":\"906\",\"name\":\"KNN\",\"img\":\"https://s.pstatic.net/static/newsstand/up/2017/0424/nsd173151831.png\",\"cate\":\"ct3\",\"amigo\":\"N\",\"viewer\":\"Y\",\"today\":\"N\",\"local\":null},{\"pid\":\"214\",\"name\":\"MBC\",\"img\":\"https://s.pstatic.net/static/newsstand/up/2017/0424/nsd17324940.png\",\"cate\":\"ct3\",\"amigo\":\"N\",\"viewer\":\"Y\",\"today\":\"N\",\"local\":null},{\"pid\":\"057\",\"name\":\"MBN\",\"img\":\"https://s.pstatic.net/static/newsstand/up/2017/0424/nsd173223533.png\",\"cate\":\"ct3\",\"amigo\":\"N\",\"viewer\":\"Y\",\"today\":\"N\",\"local\":null},{\"pid\":\"340\",\"name\":\"OBS\",\"img\":\"https://s.pstatic.net/static/newsstand/up/2017/0424/nsd173252323.png\",\"cate\":\"ct3\",\"amigo\":\"N\",\"viewer\":\"Y\",\"today\":\"N\",\"local\":null},{\"pid\":\"055\",\"name\":\"SBS\",\"img\":\"https://s.pstatic.net/static/newsstand/up/2017/0424/nsd173335676.png\",\"cate\":\"ct3\",\"amigo\":\"N\",\"viewer\":\"Y\",\"today\":\"N\",\"local\":null},{\"pid\":\"374\",\"name\":\"SBSCNBC\",\"img\":\"https://s.pstatic.net/static/newsstand/up/2017/0424/nsd173348251.png\",\"cate\":\"ct3\",\"amigo\":\"N\",\"viewer\":\"Y\",\"today\":\"N\",\"local\":null},{\"pid\":\"902\",\"name\":\"TV조선\",\"img\":\"https://s.pstatic.net/static/newsstand/up/2017/0424/nsd1735138.png\",\"cate\":\"ct3\",\"amigo\":\"N\",\"viewer\":\"Y\",\"today\":\"N\",\"local\":null},{\"pid\":\"052\",\"name\":\"YTN\",\"img\":\"https://s.pstatic.net/static/newsstand/up/2017/0424/nsd173559874.png\",\"cate\":\"ct3\",\"amigo\":\"N\",\"viewer\":\"Y\",\"today\":\"N\",\"local\":null},{\"pid\":\"945\",\"name\":\"YTN사이언스\",\"img\":\"https://s.pstatic.net/static/newsstand/up/2017/0424/nsd173618176.png\",\"cate\":\"ct3\",\"amigo\":\"N\",\"viewer\":\"Y\",\"today\":\"N\",\"local\":null}],\"ct4\":[{\"pid\":\"910\",\"name\":\"넥스트데일리\",\"img\":\"https://s.pstatic.net/static/newsstand/up/2017/0424/nsd143938201.png\",\"cate\":\"ct4\",\"amigo\":\"N\",\"viewer\":\"Y\",\"today\":\"N\",\"local\":null},{\"pid\":\"138\",\"name\":\"디지털데일리\",\"img\":\"https://s.pstatic.net/static/newsstand/up/2017/0424/nsd14481127.png\",\"cate\":\"ct4\",\"amigo\":\"N\",\"viewer\":\"Y\",\"today\":\"N\",\"local\":null},{\"pid\":\"029\",\"name\":\"디지털타임스\",\"img\":\"https://s.pstatic.net/static/newsstand/up/2017/0424/nsd144824356.png\",\"cate\":\"ct4\",\"amigo\":\"N\",\"viewer\":\"Y\",\"today\":\"N\",\"local\":null},{\"pid\":\"293\",\"name\":\"블로터\",\"img\":\"https://s.pstatic.net/static/newsstand/up/2017/0424/nsd145534698.png\",\"cate\":\"ct4\",\"amigo\":\"N\",\"viewer\":\"Y\",\"today\":\"N\",\"local\":null},{\"pid\":\"031\",\"name\":\"아이뉴스24\",\"img\":\"https://s.pstatic.net/static/newsstand/up/2017/0424/nsd153955864.png\",\"cate\":\"ct4\",\"amigo\":\"N\",\"viewer\":\"Y\",\"today\":\"N\",\"local\":null},{\"pid\":\"030\",\"name\":\"전자신문\",\"img\":\"https://s.pstatic.net/static/newsstand/up/2017/0424/nsd162528724.png\",\"cate\":\"ct4\",\"amigo\":\"N\",\"viewer\":\"Y\",\"today\":\"N\",\"local\":null},{\"pid\":\"092\",\"name\":\"지디넷코리아\",\"img\":\"https://s.pstatic.net/static/newsstand/up/2017/0424/nsd16425834.png\",\"cate\":\"ct4\",\"amigo\":\"N\",\"viewer\":\"Y\",\"today\":\"N\",\"local\":null},{\"pid\":\"917\",\"name\":\"IT조선\",\"img\":\"https://s.pstatic.net/static/newsstand/up/2017/0424/nsd173057968.png\",\"cate\":\"ct4\",\"amigo\":\"N\",\"viewer\":\"Y\",\"today\":\"N\",\"local\":null}],\"ct5\":[{\"pid\":\"330\",\"name\":\"중앙데일리\",\"img\":\"https://s.pstatic.net/static/newsstand/up/2017/0424/nsd162959945.png\",\"cate\":\"ct5\",\"amigo\":\"N\",\"viewer\":\"Y\",\"today\":\"N\",\"local\":null},{\"pid\":\"040\",\"name\":\"코리아타임스\",\"img\":\"https://s.pstatic.net/static/newsstand/up/2017/0424/nsd1729401.png\",\"cate\":\"ct5\",\"amigo\":\"N\",\"viewer\":\"Y\",\"today\":\"N\",\"local\":null},{\"pid\":\"044\",\"name\":\"코리아헤럴드\",\"img\":\"https://s.pstatic.net/static/newsstand/up/2017/0424/nsd17341942.png\",\"cate\":\"ct5\",\"amigo\":\"N\",\"viewer\":\"Y\",\"today\":\"N\",\"local\":null},{\"pid\":\"326\",\"name\":\"KBS World\",\"img\":\"https://s.pstatic.net/static/newsstand/up/2017/0424/nsd173138949.png\",\"cate\":\"ct5\",\"amigo\":\"N\",\"viewer\":\"Y\",\"today\":\"N\",\"local\":null},{\"pid\":\"946\",\"name\":\"YONHAPNEWS\",\"img\":\"https://s.pstatic.net/static/newsstand/up/2017/0424/nsd173542219.png\",\"cate\":\"ct5\",\"amigo\":\"N\",\"viewer\":\"Y\",\"today\":\"N\",\"local\":null}],\"ct6\":[{\"pid\":\"447\",\"name\":\"뉴스엔\",\"img\":\"https://s.pstatic.net/static/newsstand/up/2017/0424/nsd144110729.png\",\"cate\":\"ct6\",\"amigo\":\"N\",\"viewer\":\"Y\",\"today\":\"N\",\"local\":null},{\"pid\":\"117\",\"name\":\"마이데일리\",\"img\":\"https://s.pstatic.net/static/newsstand/up/2017/0424/nsd144944309.png\",\"cate\":\"ct6\",\"amigo\":\"N\",\"viewer\":\"Y\",\"today\":\"N\",\"local\":null},{\"pid\":\"108\",\"name\":\"스타뉴스\",\"img\":\"https://s.pstatic.net/static/newsstand/up/2017/0424/nsd14592836.png\",\"cate\":\"ct6\",\"amigo\":\"N\",\"viewer\":\"Y\",\"today\":\"N\",\"local\":null},{\"pid\":\"144\",\"name\":\"스포츠경향\",\"img\":\"https://s.pstatic.net/static/newsstand/up/2017/0424/nsd14593063.png\",\"cate\":\"ct6\",\"amigo\":\"N\",\"viewer\":\"Y\",\"today\":\"N\",\"local\":null},{\"pid\":\"314\",\"name\":\"스포츠동아\",\"img\":\"https://s.pstatic.net/static/newsstand/up/2017/0424/nsd145951763.png\",\"cate\":\"ct6\",\"amigo\":\"N\",\"viewer\":\"Y\",\"today\":\"N\",\"local\":null},{\"pid\":\"073\",\"name\":\"스포츠서울\",\"img\":\"https://s.pstatic.net/static/newsstand/up/2017/0424/nsd15042554.png\",\"cate\":\"ct6\",\"amigo\":\"N\",\"viewer\":\"Y\",\"today\":\"N\",\"local\":null},{\"pid\":\"396\",\"name\":\"스포츠월드\",\"img\":\"https://s.pstatic.net/static/newsstand/up/2017/0424/nsd1521496.png\",\"cate\":\"ct6\",\"amigo\":\"N\",\"viewer\":\"Y\",\"today\":\"N\",\"local\":null},{\"pid\":\"076\",\"name\":\"스포츠조선\",\"img\":\"https://s.pstatic.net/static/newsstand/up/2017/0424/nsd183553864.png\",\"cate\":\"ct6\",\"amigo\":\"N\",\"viewer\":\"Y\",\"today\":\"N\",\"local\":null},{\"pid\":\"940\",\"name\":\"스포츠투데이\",\"img\":\"https://s.pstatic.net/static/newsstand/up/2017/0424/nsd183628961.png\",\"cate\":\"ct6\",\"amigo\":\"N\",\"viewer\":\"Y\",\"today\":\"N\",\"local\":null},{\"pid\":\"139\",\"name\":\"스포탈코리아\",\"img\":\"https://s.pstatic.net/static/newsstand/up/2017/0424/nsd151840663.png\",\"cate\":\"ct6\",\"amigo\":\"N\",\"viewer\":\"Y\",\"today\":\"N\",\"local\":null},{\"pid\":\"311\",\"name\":\"엑스포츠뉴스\",\"img\":\"https://s.pstatic.net/static/newsstand/up/2017/0424/nsd154117.png\",\"cate\":\"ct6\",\"amigo\":\"N\",\"viewer\":\"Y\",\"today\":\"N\",\"local\":null},{\"pid\":\"241\",\"name\":\"일간스포츠\",\"img\":\"https://s.pstatic.net/static/newsstand/up/2017/0424/nsd154619739.png\",\"cate\":\"ct6\",\"amigo\":\"N\",\"viewer\":\"Y\",\"today\":\"N\",\"local\":null},{\"pid\":\"947\",\"name\":\"조이뉴스24\",\"img\":\"https://s.pstatic.net/static/newsstand/up/2017/0424/nsd162759461.png\",\"cate\":\"ct6\",\"amigo\":\"N\",\"viewer\":\"Y\",\"today\":\"N\",\"local\":null},{\"pid\":\"312\",\"name\":\"텐아시아\",\"img\":\"https://s.pstatic.net/static/newsstand/up/2017/0424/nsd172519405.png\",\"cate\":\"ct6\",\"amigo\":\"N\",\"viewer\":\"Y\",\"today\":\"N\",\"local\":null},{\"pid\":\"440\",\"name\":\"티브이데일리\",\"img\":\"https://s.pstatic.net/static/newsstand/up/2017/0424/nsd172538465.png\",\"cate\":\"ct6\",\"amigo\":\"N\",\"viewer\":\"Y\",\"today\":\"N\",\"local\":null},{\"pid\":\"410\",\"name\":\"MK스포츠\",\"img\":\"https://s.pstatic.net/static/newsstand/up/2017/0424/nsd173237747.png\",\"cate\":\"ct6\",\"amigo\":\"N\",\"viewer\":\"Y\",\"today\":\"N\",\"local\":null},{\"pid\":\"109\",\"name\":\"OSEN\",\"img\":\"https://s.pstatic.net/static/newsstand/up/2017/0424/nsd17338859.png\",\"cate\":\"ct6\",\"amigo\":\"N\",\"viewer\":\"Y\",\"today\":\"N\",\"local\":null},{\"pid\":\"416\",\"name\":\"SBS연예스포츠\",\"img\":\"https://s.pstatic.net/static/newsstand/up/2017/0424/nsd173430905.png\",\"cate\":\"ct6\",\"amigo\":\"N\",\"viewer\":\"Y\",\"today\":\"N\",\"local\":null},{\"pid\":\"213\",\"name\":\"TV리포트\",\"img\":\"https://s.pstatic.net/static/newsstand/up/2017/0424/nsd173446621.png\",\"cate\":\"ct6\",\"amigo\":\"N\",\"viewer\":\"Y\",\"today\":\"N\",\"local\":null},{\"pid\":\"404\",\"name\":\"enews24\",\"img\":\"https://s.pstatic.net/static/newsstand/up/2017/0424/nsd173715121.png\",\"cate\":\"ct6\",\"amigo\":\"N\",\"viewer\":\"Y\",\"today\":\"N\",\"local\":null}],\"ct7\":[{\"pid\":\"356\",\"name\":\"게임메카\",\"img\":\"https://s.pstatic.net/static/newsstand/up/2017/0424/nsd143454437.png\",\"cate\":\"ct7\",\"amigo\":\"N\",\"viewer\":\"Y\",\"today\":\"N\",\"local\":null},{\"pid\":\"363\",\"name\":\"과학동아\",\"img\":\"https://s.pstatic.net/static/newsstand/up/2017/0424/nsd143721586.png\",\"cate\":\"ct7\",\"amigo\":\"N\",\"viewer\":\"Y\",\"today\":\"N\",\"local\":null},{\"pid\":\"908\",\"name\":\"국방일보\",\"img\":\"https://s.pstatic.net/static/newsstand/up/2017/0424/nsd143827635.png\",\"cate\":\"ct7\",\"amigo\":\"N\",\"viewer\":\"Y\",\"today\":\"N\",\"local\":null},{\"pid\":\"911\",\"name\":\"농민신문\",\"img\":\"https://s.pstatic.net/static/newsstand/up/2017/0424/nsd144020188.png\",\"cate\":\"ct7\",\"amigo\":\"N\",\"viewer\":\"Y\",\"today\":\"N\",\"local\":null},{\"pid\":\"912\",\"name\":\"뉴스컬처\",\"img\":\"https://s.pstatic.net/static/newsstand/up/2017/0424/nsd14412867.png\",\"cate\":\"ct7\",\"amigo\":\"N\",\"viewer\":\"Y\",\"today\":\"N\",\"local\":null},{\"pid\":\"905\",\"name\":\"더스쿠프\",\"img\":\"https://s.pstatic.net/static/newsstand/up/2017/0424/nsd144523858.png\",\"cate\":\"ct7\",\"amigo\":\"N\",\"viewer\":\"Y\",\"today\":\"N\",\"local\":null},{\"pid\":\"042\",\"name\":\"데일리한국\",\"img\":\"https://s.pstatic.net/static/newsstand/up/2017/0424/nsd144629578.png\",\"cate\":\"ct7\",\"amigo\":\"N\",\"viewer\":\"Y\",\"today\":\"N\",\"local\":null},{\"pid\":\"345\",\"name\":\"디자인정글\",\"img\":\"https://s.pstatic.net/static/newsstand/up/2017/0424/nsd144732945.png\",\"cate\":\"ct7\",\"amigo\":\"N\",\"viewer\":\"Y\",\"today\":\"N\",\"local\":null},{\"pid\":\"915\",\"name\":\"르몽드 디플로마티크\",\"img\":\"https://s.pstatic.net/static/newsstand/up/2017/0424/nsd1449112.png\",\"cate\":\"ct7\",\"amigo\":\"N\",\"viewer\":\"Y\",\"today\":\"N\",\"local\":null},{\"pid\":\"024\",\"name\":\"매경이코노미\",\"img\":\"https://s.pstatic.net/static/newsstand/up/2017/0424/nsd145011543.png\",\"cate\":\"ct7\",\"amigo\":\"N\",\"viewer\":\"Y\",\"today\":\"N\",\"local\":null},{\"pid\":\"075\",\"name\":\"맥스무비\",\"img\":\"https://s.pstatic.net/static/newsstand/up/2017/0424/nsd183033195.png\",\"cate\":\"ct7\",\"amigo\":\"N\",\"viewer\":\"Y\",\"today\":\"N\",\"local\":null},{\"pid\":\"417\",\"name\":\"머니에스\",\"img\":\"https://s.pstatic.net/static/newsstand/up/2017/0424/nsd145150694.png\",\"cate\":\"ct7\",\"amigo\":\"N\",\"viewer\":\"Y\",\"today\":\"N\",\"local\":null},{\"pid\":\"122\",\"name\":\"법률신문\",\"img\":\"https://s.pstatic.net/static/newsstand/up/2017/0424/nsd145431309.png\",\"cate\":\"ct7\",\"amigo\":\"N\",\"viewer\":\"Y\",\"today\":\"N\",\"local\":null},{\"pid\":\"355\",\"name\":\"사이언스타임즈\",\"img\":\"https://s.pstatic.net/static/newsstand/up/2017/0424/nsd145657590.png\",\"cate\":\"ct7\",\"amigo\":\"N\",\"viewer\":\"Y\",\"today\":\"N\",\"local\":null},{\"pid\":\"329\",\"name\":\"소년한국일보\",\"img\":\"https://s.pstatic.net/static/newsstand/up/2017/0424/nsd14583498.png\",\"cate\":\"ct7\",\"amigo\":\"N\",\"viewer\":\"Y\",\"today\":\"N\",\"local\":null},{\"pid\":\"308\",\"name\":\"시사인\",\"img\":\"https://s.pstatic.net/static/newsstand/up/2017/0424/nsd151929775.png\",\"cate\":\"ct7\",\"amigo\":\"N\",\"viewer\":\"Y\",\"today\":\"N\",\"local\":null},{\"pid\":\"135\",\"name\":\"시사저널\",\"img\":\"https://s.pstatic.net/static/newsstand/up/2017/0424/nsd153228485.png\",\"cate\":\"ct7\",\"amigo\":\"N\",\"viewer\":\"Y\",\"today\":\"N\",\"local\":null},{\"pid\":\"140\",\"name\":\"씨네21\",\"img\":\"https://s.pstatic.net/static/newsstand/up/2017/0424/nsd153251814.png\",\"cate\":\"ct7\",\"amigo\":\"N\",\"viewer\":\"Y\",\"today\":\"N\",\"local\":null},{\"pid\":\"328\",\"name\":\"에이블뉴스\",\"img\":\"https://s.pstatic.net/static/newsstand/up/2017/0424/nsd154040656.png\",\"cate\":\"ct7\",\"amigo\":\"N\",\"viewer\":\"Y\",\"today\":\"N\",\"local\":null},{\"pid\":\"354\",\"name\":\"엘르\",\"img\":\"https://s.pstatic.net/static/newsstand/up/2017/0424/nsd154119884.png\",\"cate\":\"ct7\",\"amigo\":\"N\",\"viewer\":\"Y\",\"today\":\"N\",\"local\":null},{\"pid\":\"310\",\"name\":\"여성신문\",\"img\":\"https://s.pstatic.net/static/newsstand/up/2017/0424/nsd154151666.png\",\"cate\":\"ct7\",\"amigo\":\"N\",\"viewer\":\"Y\",\"today\":\"N\",\"local\":null},{\"pid\":\"924\",\"name\":\"인벤\",\"img\":\"https://s.pstatic.net/static/newsstand/up/2017/0424/nsd154539705.png\",\"cate\":\"ct7\",\"amigo\":\"N\",\"viewer\":\"Y\",\"today\":\"N\",\"local\":null},{\"pid\":\"362\",\"name\":\"자동차생활\",\"img\":\"https://s.pstatic.net/static/newsstand/up/2017/0424/nsd162354371.png\",\"cate\":\"ct7\",\"amigo\":\"N\",\"viewer\":\"Y\",\"today\":\"N\",\"local\":null},{\"pid\":\"123\",\"name\":\"조세일보\",\"img\":\"https://s.pstatic.net/static/newsstand/up/2017/0424/nsd162739461.png\",\"cate\":\"ct7\",\"amigo\":\"N\",\"viewer\":\"Y\",\"today\":\"N\",\"local\":null},{\"pid\":\"361\",\"name\":\"채널예스\",\"img\":\"https://s.pstatic.net/static/newsstand/up/2017/0424/nsd164412540.png\",\"cate\":\"ct7\",\"amigo\":\"N\",\"viewer\":\"Y\",\"today\":\"N\",\"local\":null},{\"pid\":\"928\",\"name\":\"컴퓨터월드\",\"img\":\"https://s.pstatic.net/static/newsstand/up/2017/0424/nsd17150763.png\",\"cate\":\"ct7\",\"amigo\":\"N\",\"viewer\":\"Y\",\"today\":\"N\",\"local\":null},{\"pid\":\"296\",\"name\":\"코메디닷컴\",\"img\":\"https://s.pstatic.net/static/newsstand/up/2017/0424/nsd172354656.png\",\"cate\":\"ct7\",\"amigo\":\"N\",\"viewer\":\"Y\",\"today\":\"N\",\"local\":null},{\"pid\":\"948\",\"name\":\"한겨레21\",\"img\":\"https://s.pstatic.net/static/newsstand/up/2017/0424/nsd172654646.png\",\"cate\":\"ct7\",\"amigo\":\"N\",\"viewer\":\"Y\",\"today\":\"N\",\"local\":null},{\"pid\":\"050\",\"name\":\"한경비즈니스\",\"img\":\"https://s.pstatic.net/static/newsstand/up/2017/0424/nsd172712628.png\",\"cate\":\"ct7\",\"amigo\":\"N\",\"viewer\":\"Y\",\"today\":\"N\",\"local\":null},{\"pid\":\"384\",\"name\":\"한국대학신문\",\"img\":\"https://s.pstatic.net/static/newsstand/up/2017/0424/nsd172816434.png\",\"cate\":\"ct7\",\"amigo\":\"N\",\"viewer\":\"Y\",\"today\":\"N\",\"local\":null},{\"pid\":\"346\",\"name\":\"헬스조선\",\"img\":\"https://s.pstatic.net/static/newsstand/up/2017/0424/nsd172911723.png\",\"cate\":\"ct7\",\"amigo\":\"N\",\"viewer\":\"Y\",\"today\":\"N\",\"local\":null},{\"pid\":\"364\",\"name\":\"PC사랑\",\"img\":\"https://s.pstatic.net/static/newsstand/up/2017/0424/nsd173322105.png\",\"cate\":\"ct7\",\"amigo\":\"N\",\"viewer\":\"Y\",\"today\":\"N\",\"local\":null},{\"pid\":\"949\",\"name\":\"TheAsiaN\",\"img\":\"https://s.pstatic.net/static/newsstand/up/2017/0424/nsd173523100.png\",\"cate\":\"ct7\",\"amigo\":\"N\",\"viewer\":\"Y\",\"today\":\"N\",\"local\":null}],\"ct8\":[{\"pid\":\"335\",\"name\":\"강원도민일보\",\"img\":\"https://s.pstatic.net/static/newsstand/up/2017/0424/nsd14341394.png\",\"cate\":\"ct8\",\"amigo\":\"N\",\"viewer\":\"Y\",\"today\":\"N\",\"local\":[{\"name\":\"강원\",\"code\":\"01\"}]},{\"pid\":\"087\",\"name\":\"강원일보\",\"img\":\"https://s.pstatic.net/static/newsstand/up/2017/0424/nsd143434899.png\",\"cate\":\"ct8\",\"amigo\":\"N\",\"viewer\":\"Y\",\"today\":\"N\",\"local\":[{\"name\":\"강원\",\"code\":\"01\"}]},{\"pid\":\"339\",\"name\":\"경기일보\",\"img\":\"https://s.pstatic.net/static/newsstand/up/2017/0424/nsd143511509.png\",\"cate\":\"ct8\",\"amigo\":\"N\",\"viewer\":\"Y\",\"today\":\"N\",\"local\":[{\"name\":\"경기\",\"code\":\"02\"},{\"name\":\"인천\",\"code\":\"11\"}]},{\"pid\":\"333\",\"name\":\"경남신문\",\"img\":\"https://s.pstatic.net/static/newsstand/up/2017/0424/nsd143531816.png\",\"cate\":\"ct8\",\"amigo\":\"N\",\"viewer\":\"Y\",\"today\":\"N\",\"local\":[{\"name\":\"경남\",\"code\":\"03\"},{\"name\":\"부산\",\"code\":\"08\"},{\"name\":\"울산\",\"code\":\"10\"}]},{\"pid\":\"907\",\"name\":\"경북매일신문\",\"img\":\"https://s.pstatic.net/static/newsstand/up/2017/0424/nsd143555345.png\",\"cate\":\"ct8\",\"amigo\":\"N\",\"viewer\":\"Y\",\"today\":\"N\",\"local\":[{\"name\":\"경북\",\"code\":\"04\"},{\"name\":\"대구\",\"code\":\"06\"}]},{\"pid\":\"337\",\"name\":\"경북일보\",\"img\":\"https://s.pstatic.net/static/newsstand/up/2017/0424/nsd143612100.png\",\"cate\":\"ct8\",\"amigo\":\"N\",\"viewer\":\"Y\",\"today\":\"N\",\"local\":[{\"name\":\"경북\",\"code\":\"04\"},{\"name\":\"대구\",\"code\":\"06\"},{\"name\":\"울산\",\"code\":\"10\"}]},{\"pid\":\"935\",\"name\":\"경상일보\",\"img\":\"https://s.pstatic.net/static/newsstand/up/2017/0424/nsd143628241.png\",\"cate\":\"ct8\",\"amigo\":\"N\",\"viewer\":\"Y\",\"today\":\"N\",\"local\":[{\"name\":\"울산\",\"code\":\"10\"}]},{\"pid\":\"338\",\"name\":\"경인일보\",\"img\":\"https://s.pstatic.net/static/newsstand/up/2017/0424/nsd143645415.png\",\"cate\":\"ct8\",\"amigo\":\"N\",\"viewer\":\"Y\",\"today\":\"N\",\"local\":[{\"name\":\"경기\",\"code\":\"02\"},{\"name\":\"인천\",\"code\":\"11\"}]},{\"pid\":\"083\",\"name\":\"광주일보\",\"img\":\"https://s.pstatic.net/static/newsstand/up/2017/0424/nsd143742681.png\",\"cate\":\"ct8\",\"amigo\":\"N\",\"viewer\":\"Y\",\"today\":\"N\",\"local\":[{\"name\":\"광주\",\"code\":\"05\"},{\"name\":\"전남\",\"code\":\"12\"}]},{\"pid\":\"332\",\"name\":\"국제신문\",\"img\":\"https://s.pstatic.net/static/newsstand/up/2017/0424/nsd143844997.png\",\"cate\":\"ct8\",\"amigo\":\"N\",\"viewer\":\"Y\",\"today\":\"N\",\"local\":[{\"name\":\"경남\",\"code\":\"03\"},{\"name\":\"부산\",\"code\":\"08\"},{\"name\":\"울산\",\"code\":\"10\"}]},{\"pid\":\"909\",\"name\":\"기호일보\",\"img\":\"https://s.pstatic.net/static/newsstand/up/2017/0424/nsd14392544.png\",\"cate\":\"ct8\",\"amigo\":\"N\",\"viewer\":\"Y\",\"today\":\"N\",\"local\":[{\"name\":\"경기\",\"code\":\"02\"},{\"name\":\"인천\",\"code\":\"11\"}]},{\"pid\":\"936\",\"name\":\"대구일보\",\"img\":\"https://s.pstatic.net/static/newsstand/up/2017/0424/nsd144433908.png\",\"cate\":\"ct8\",\"amigo\":\"N\",\"viewer\":\"Y\",\"today\":\"N\",\"local\":[{\"name\":\"경북\",\"code\":\"04\"},{\"name\":\"대구\",\"code\":\"06\"}]},{\"pid\":\"089\",\"name\":\"대전일보\",\"img\":\"https://s.pstatic.net/static/newsstand/up/2017/0424/nsd144457151.png\",\"cate\":\"ct8\",\"amigo\":\"N\",\"viewer\":\"Y\",\"today\":\"N\",\"local\":[{\"name\":\"대전\",\"code\":\"07\"},{\"name\":\"충남\",\"code\":\"15\"},{\"name\":\"충북\",\"code\":\"16\"},{\"name\":\"세종\",\"code\":\"17\"}]},{\"pid\":\"088\",\"name\":\"매일신문\",\"img\":\"https://s.pstatic.net/static/newsstand/up/2017/0424/nsd14505572.png\",\"cate\":\"ct8\",\"amigo\":\"N\",\"viewer\":\"Y\",\"today\":\"N\",\"local\":[{\"name\":\"경북\",\"code\":\"04\"},{\"name\":\"대구\",\"code\":\"06\"}]},{\"pid\":\"082\",\"name\":\"부산일보\",\"img\":\"https://s.pstatic.net/static/newsstand/up/2017/0424/nsd145450220.png\",\"cate\":\"ct8\",\"amigo\":\"N\",\"viewer\":\"Y\",\"today\":\"N\",\"local\":[{\"name\":\"경남\",\"code\":\"03\"},{\"name\":\"부산\",\"code\":\"08\"},{\"name\":\"울산\",\"code\":\"10\"}]},{\"pid\":\"385\",\"name\":\"영남일보\",\"img\":\"https://s.pstatic.net/static/newsstand/up/2017/0424/nsd154255890.png\",\"cate\":\"ct8\",\"amigo\":\"N\",\"viewer\":\"Y\",\"today\":\"N\",\"local\":[{\"name\":\"경북\",\"code\":\"04\"},{\"name\":\"대구\",\"code\":\"06\"}]},{\"pid\":\"386\",\"name\":\"울산매일\",\"img\":\"https://s.pstatic.net/static/newsstand/up/2017/0424/nsd154334776.png\",\"cate\":\"ct8\",\"amigo\":\"N\",\"viewer\":\"Y\",\"today\":\"N\",\"local\":[{\"name\":\"울산\",\"code\":\"10\"}]},{\"pid\":\"387\",\"name\":\"인천일보\",\"img\":\"https://s.pstatic.net/static/newsstand/up/2017/0424/nsd154558680.png\",\"cate\":\"ct8\",\"amigo\":\"N\",\"viewer\":\"Y\",\"today\":\"N\",\"local\":[{\"name\":\"경기\",\"code\":\"02\"},{\"name\":\"인천\",\"code\":\"11\"}]},{\"pid\":\"388\",\"name\":\"전남일보\",\"img\":\"https://s.pstatic.net/static/newsstand/up/2017/0424/nsd162423309.png\",\"cate\":\"ct8\",\"amigo\":\"N\",\"viewer\":\"Y\",\"today\":\"N\",\"local\":[{\"name\":\"광주\",\"code\":\"05\"},{\"name\":\"전남\",\"code\":\"12\"}]},{\"pid\":\"937\",\"name\":\"전북도민일보\",\"img\":\"https://s.pstatic.net/static/newsstand/up/2017/0424/nsd16244628.png\",\"cate\":\"ct8\",\"amigo\":\"N\",\"viewer\":\"Y\",\"today\":\"N\",\"local\":[{\"name\":\"전북\",\"code\":\"13\"}]},{\"pid\":\"336\",\"name\":\"전북일보\",\"img\":\"https://s.pstatic.net/static/newsstand/up/2017/0424/nsd16256807.png\",\"cate\":\"ct8\",\"amigo\":\"N\",\"viewer\":\"Y\",\"today\":\"N\",\"local\":[{\"name\":\"전북\",\"code\":\"13\"}]},{\"pid\":\"901\",\"name\":\"제민일보\",\"img\":\"https://s.pstatic.net/static/newsstand/up/2017/0424/nsd16254923.png\",\"cate\":\"ct8\",\"amigo\":\"N\",\"viewer\":\"Y\",\"today\":\"N\",\"local\":[{\"name\":\"제주\",\"code\":\"14\"}]},{\"pid\":\"389\",\"name\":\"제주도민일보\",\"img\":\"https://s.pstatic.net/static/newsstand/up/2017/0424/nsd1626960.png\",\"cate\":\"ct8\",\"amigo\":\"N\",\"viewer\":\"Y\",\"today\":\"N\",\"local\":[{\"name\":\"제주\",\"code\":\"14\"}]},{\"pid\":\"334\",\"name\":\"제주의소리\",\"img\":\"https://s.pstatic.net/static/newsstand/up/2017/0424/nsd162631114.png\",\"cate\":\"ct8\",\"amigo\":\"N\",\"viewer\":\"Y\",\"today\":\"N\",\"local\":[{\"name\":\"제주\",\"code\":\"14\"}]},{\"pid\":\"390\",\"name\":\"중도일보\",\"img\":\"https://s.pstatic.net/static/newsstand/up/2017/0424/nsd162822857.png\",\"cate\":\"ct8\",\"amigo\":\"N\",\"viewer\":\"Y\",\"today\":\"N\",\"local\":[{\"name\":\"대전\",\"code\":\"07\"},{\"name\":\"충남\",\"code\":\"15\"}]},{\"pid\":\"926\",\"name\":\"중부일보\",\"img\":\"https://s.pstatic.net/static/newsstand/up/2017/0424/nsd162931439.png\",\"cate\":\"ct8\",\"amigo\":\"N\",\"viewer\":\"Y\",\"today\":\"N\",\"local\":[{\"name\":\"경기\",\"code\":\"02\"},{\"name\":\"인천\",\"code\":\"11\"}]},{\"pid\":\"927\",\"name\":\"충북일보\",\"img\":\"https://s.pstatic.net/static/newsstand/up/2017/0424/nsd164449667.png\",\"cate\":\"ct8\",\"amigo\":\"N\",\"viewer\":\"Y\",\"today\":\"N\",\"local\":[{\"name\":\"충북\",\"code\":\"16\"},{\"name\":\"세종\",\"code\":\"17\"}]},{\"pid\":\"391\",\"name\":\"충청일보\",\"img\":\"https://s.pstatic.net/static/newsstand/up/2017/0424/nsd17115481.png\",\"cate\":\"ct8\",\"amigo\":\"N\",\"viewer\":\"Y\",\"today\":\"N\",\"local\":[{\"name\":\"대전\",\"code\":\"07\"},{\"name\":\"충남\",\"code\":\"15\"},{\"name\":\"충북\",\"code\":\"16\"},{\"name\":\"세종\",\"code\":\"17\"}]},{\"pid\":\"331\",\"name\":\"충청투데이\",\"img\":\"https://s.pstatic.net/static/newsstand/up/2017/0424/nsd17133978.png\",\"cate\":\"ct8\",\"amigo\":\"N\",\"viewer\":\"Y\",\"today\":\"N\",\"local\":[{\"name\":\"대전\",\"code\":\"07\"},{\"name\":\"충남\",\"code\":\"15\"},{\"name\":\"충북\",\"code\":\"16\"},{\"name\":\"세종\",\"code\":\"17\"}]}]},\\n\\t\\t\\t\\t\\tisSupportedFlicking : false\\n    \\t\\t    });\\n\\n\\t\\t\\t\\tnew naver.main.Timesquare({\\n    \\t    \\t    aOrderedPanel : \\n[{\"code\":\"weather\",\"name\":\"날씨\"},{\"code\":\"news\",\"name\":\"뉴스\"},{\"code\":\"sports\",\"name\":\"스포츠\"},{\"code\":\"finance\",\"name\":\"금융\"},{\"code\":\"conversation\",\"name\":\"회화\"},{\"code\":\"lifetools\",\"name\":\"생활도구\"}]\\n,\\n        \\t    \\tisSupportedFlicking : false\\n\\t\\t        });\\n\\n\\t\\t\\t\\tnew naver.main.RealtimeKeyword();\\n\\t\\t\\t\\tif ( !($Agent().navigator().ie && $Agent().navigator().version', 584]\n",
      "[' 8) ) {\\t\\n\\t\\t\\t\\t\\tsetTimeout(naver_bakery.bakeryManager.checkTable, 4000);\\t\\n\\t\\t\\t\\t}\\n\\n\\t\\t\\t\\tnaver.main.SchoolFixed.init(\"(none)\");\\n\\t\\t\\t\\tnaver.main.bestseller.init();\\n\\t\\t\\t});\\n\\t\\t}\\n\\n\\t\\tif (window.addEventListener) { \\n\\t\\t\\twindow.addEventListener(\"load\", function() { loadJS(); }, true);\\n\\t\\t} else if (window.attachEvent) { \\n\\t\\t\\twindow.attachEvent(\"onload\", loadJS);\\n\\t\\t} else {\\n\\t\\t\\twindow.onload = loadJS;\\n\\t\\t}', 585]\n"
     ]
    }
   ],
   "source": [
    "from urllib import request \n",
    " \n",
    "url = 'http://www.naver.com'\n",
    "f = request.urlopen(url)\n",
    "source_bytes = f.read()\n",
    "source = source_bytes.decode('utf-8')\n",
    "\n",
    "# 추후 숙제 답안 제출 때엔 아래 코드는 주석처리할 것   \n",
    "s=source.split('<')\n",
    "result=[]\n",
    "i=0\n",
    "for x in s:\n",
    "    x=x.strip(' \\t\\n\\r')\n",
    "    x=x.strip('~!@#$%^&*()-=+\\\\/?!')    \n",
    "    length=len(x)\n",
    "    b=x.find('>')\n",
    "    if (b+1)!=length:\n",
    "        i+=1\n",
    "        key=x[b+1:length]\n",
    "        x=x.strip(' \\t\\n\\r')\n",
    "        x=x.strip('~!@#$%^&*()-=+\\\\<>/?!')   \n",
    "        result.append(key)\n",
    "        d=[key,i]\n",
    "        print(d)"
   ]
  },
  {
   "cell_type": "markdown",
   "metadata": {},
   "source": []
  }
 ],
 "metadata": {
  "kernelspec": {
   "display_name": "Python 3",
   "language": "python",
   "name": "python3"
  },
  "language_info": {
   "codemirror_mode": {
    "name": "ipython",
    "version": 3
   },
   "file_extension": ".py",
   "mimetype": "text/x-python",
   "name": "python",
   "nbconvert_exporter": "python",
   "pygments_lexer": "ipython3",
   "version": "3.6.1"
  }
 },
 "nbformat": 4,
 "nbformat_minor": 2
}
