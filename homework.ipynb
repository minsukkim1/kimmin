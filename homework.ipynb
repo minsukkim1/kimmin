{
 "cells": [
  {
   "cell_type": "markdown",
   "metadata": {},
   "source": [
    "### 문제1\n",
    "   - a=\"Hello Python\" 문자열을 Slicing과 연결 연산자 (+)를 사용하여 \"Python Hello\"로 변경하시오.\n",
    "     - [주의] a 변수 자체에 \"Python Hello\" 문자열이 저장되어야 함"
   ]
  },
  {
   "cell_type": "code",
   "execution_count": 1,
   "metadata": {},
   "outputs": [
    {
     "name": "stdout",
     "output_type": "stream",
     "text": [
      "Hello Python\n",
      "Python Hello\n"
     ]
    }
   ],
   "source": [
    "a=\"Hello Python\"\n",
    "print(a)\n",
    "a=a[6:]+' '+a[:5]\n",
    "print(a)"
   ]
  },
  {
   "cell_type": "markdown",
   "metadata": {},
   "source": [
    "슬라이싱을 이용하여 a=\"Hello Python\"를 바꾸기 위해 P의 시작 부분 [6:]부터 시작하여 \n",
    "마지막까지를 집어넣고, 앞부분의 마지막인 o는 a[4]이므로 a[:5]로 하여 \"Hello를 불러낸다."
   ]
  },
  {
   "cell_type": "markdown",
   "metadata": {},
   "source": [
    "### 문제2\n",
    "  - b=\"Hello Python World\" 문자열을 Slicing과 연결 연산자 (+)를 사용하여 \"World Python Hello\"로 변경하시오.\n",
    "     - [주의] b 변수 자체에 \"Python Hello\" 문자열이 저장되어야 함"
   ]
  },
  {
   "cell_type": "code",
   "execution_count": 2,
   "metadata": {},
   "outputs": [
    {
     "name": "stdout",
     "output_type": "stream",
     "text": [
      "Hello Python World\n",
      "World Python Hello \n"
     ]
    }
   ],
   "source": [
    "b=\"Hello Python World\"\n",
    "print(b)\n",
    "b=b[13:]+' '+b[6:13]+b[:6]\n",
    "print(b)"
   ]
  },
  {
   "cell_type": "markdown",
   "metadata": {},
   "source": [
    "문제1과 비슷하게 슬라이싱을 이용하여 W의 시작부분 b[13]을 이용, P의 시작부분 b[6]과 마지막 부분 n은 b[12]을 이용,마지막 o는 b[5]이므로 이용하여 값을 구해냈다."
   ]
  },
  {
   "cell_type": "markdown",
   "metadata": {},
   "source": [
    "### 문제3\n",
    "- c=\"Hello\"를 \"olleH\"로 변경하시오\n",
    "     - [주의] c 변수 자체에 \"olleH\" 문자열이 저장되어야 함"
   ]
  },
  {
   "cell_type": "code",
   "execution_count": 3,
   "metadata": {},
   "outputs": [
    {
     "name": "stdout",
     "output_type": "stream",
     "text": [
      "Hello\n",
      "olleH\n"
     ]
    }
   ],
   "source": [
    "c=\"Hello\"\n",
    "print(c)\n",
    "c=c[::-1]\n",
    "print(c)"
   ]
  },
  {
   "cell_type": "markdown",
   "metadata": {},
   "source": [
    "배열을 반대로 바꾸는 것이므로, 뒤에서 부터 나오도록c[::-1]로 하여 하면 반대로 실행이 되게된다."
   ]
  },
  {
   "cell_type": "markdown",
   "metadata": {},
   "source": [
    "### 문제4\n",
    "  - s=\"python\"에 대해 다음 문제를 풀어보시오.\n",
    "    1. s[0], s[0][0], s[0][0][0]은 각각 어떤 값이 나오는지 확인하고 그 이유를 나름대로 설명해 보시오.\n",
    "    2. s[-100], s[100]은 값이 나오는지 에러가 나오는지 확인하고 그 결과에 대한 이유를 나름대로 설명해 보시오.\n",
    "    3. s[-100, 100]은 값이 나오는지 에러가 나오는지 확인하고 그 결과에 대한 이유를 나름대로 설명해 보시오.\n",
    "    4. s[1:-1]의 결과를 확인하고 그 결과에 대한 이유를 정확하게 설명하시오.\n",
    "    5. s[3:-3]의 결과를 확인하고 그 결과에 대한 이유를 정확하게 설명하시오."
   ]
  },
  {
   "cell_type": "markdown",
   "metadata": {},
   "source": [
    "  1. s[0]와 s[0][0], s[0][0][0]는 모두 값이 같다. 1차원 배열은 s[0]일 때, p인것이 확실하고 s[0][0]도 또한 y축이 있더라도 값이 0이므로 y[0]인 s는 s[0]과 값이 같고, s[0][0][0]또한 같다.\n",
    "  2. c[100]과 c[-100]은 값이 나오지 않는다. 그 이유는 s 문자열은 6개로 이루어져있다. 그러므로 6을 초과한 100과 -100은 실행되지 않는다.\n",
    "  3. s[-100,100] 또한 1.과 2.의 이유로 배열의 값이 초과하였고, 2차원이 0이 아닌 값으로 초과 하였다.\n",
    "  4. s[1:-1]는 값이 ytho가 나온다. 그 이유는 첫값을 1로 시작하여 s[1]는 'y'이고 [:-1]은 끝을 나타내므로 -1은 또 뒤에서 부터 새는것 이므로 s[-1] n에 해당되므로 ytho가 된다.\n",
    "  5. s[3:-3]은 값이 없다. 왜냐하면 s[3]은 h이고, s[-3]은 또 h이다. 하지만 슬라이싱은 마지막 h는 포함되지 않기 때문에 값이 출력 되지않는다."
   ]
  },
  {
   "cell_type": "markdown",
   "metadata": {},
   "source": [
    "### 문제5\n",
    "  - for문을 활용하여 1부터 100사이의 홀수를 출력하시오."
   ]
  },
  {
   "cell_type": "code",
   "execution_count": 4,
   "metadata": {},
   "outputs": [
    {
     "name": "stdout",
     "output_type": "stream",
     "text": [
      "2500\n"
     ]
    }
   ],
   "source": [
    "result = 0\n",
    "d=range(100)\n",
    "for x in d:\n",
    "    if x%2==1:\n",
    "        result += x\n",
    "print(result)"
   ]
  },
  {
   "cell_type": "markdown",
   "metadata": {},
   "source": [
    "for을 이용하여 x가 1~100까지의 숫자를 얻도록 range(100)을 받고, 받은 값들을 x%2==1을 하면 홀수 값이 나오므로 이값들을 다 더하면 1~100까지의 홀수인 2500이 출력된다."
   ]
  },
  {
   "cell_type": "markdown",
   "metadata": {},
   "source": [
    "### 문제6\n",
    "  - while문을 활용하여 1부터 100사이의 짝수의 합을 계산하여 출력하시오."
   ]
  },
  {
   "cell_type": "code",
   "execution_count": 5,
   "metadata": {},
   "outputs": [
    {
     "name": "stdout",
     "output_type": "stream",
     "text": [
      "2550\n"
     ]
    }
   ],
   "source": [
    "count=1\n",
    "sum=0\n",
    "while count<=100:\n",
    "    count+=1\n",
    "    if count%2==0:\n",
    "        sum += count\n",
    "print(sum)"
   ]
  },
  {
   "cell_type": "markdown",
   "metadata": {},
   "source": [
    "문제5와 비슷하여 while문을 이용하여 count를 이용해 1~100까지의 수를 실행 실행하여 count가 1부터 값이 올라가면서 count%2==0을 실행하여 짝수인 값을 계속 더하여 출력하면 2550이 나온다."
   ]
  },
  {
   "cell_type": "markdown",
   "metadata": {},
   "source": [
    "### 문제7\n",
    "  - 사용자로 부터 임의의 정수를 입력받고, 해당 숫자를 역순으로 출력하는 프로그램을 작성하시오."
   ]
  },
  {
   "cell_type": "code",
   "execution_count": 6,
   "metadata": {},
   "outputs": [
    {
     "name": "stdout",
     "output_type": "stream",
     "text": [
      "정수를 입력하세요:3125\n",
      "숫자 역순은 5213 입니다.\n"
     ]
    }
   ],
   "source": [
    "a=input(\"정수를 입력하세요:\")\n",
    "a=a[::-1]\n",
    "print(\"숫자 역순은\",a,\"입니다.\")"
   ]
  },
  {
   "cell_type": "markdown",
   "metadata": {},
   "source": [
    "역순으로 실행하기 위해서는 문제 3과 똑같은 방식으로 풀면된다. 바로 [::-1]을 이용하면 역순으로 실행되기 때문에 input으로 값을 받으면 [::-1]를 이용해 역순값을 받는다."
   ]
  },
  {
   "cell_type": "markdown",
   "metadata": {},
   "source": [
    "### 문제8\n",
    "  - 사용자로 부터 정수를 입력받아서 1부터 그 사이에 존재하는 소수 (Prime number)를 출력하는 파이썬 프로그램을 작성하시오."
   ]
  },
  {
   "cell_type": "code",
   "execution_count": 7,
   "metadata": {},
   "outputs": [
    {
     "name": "stdout",
     "output_type": "stream",
     "text": [
      "정수를 입력하세요: 6\n",
      "1\n",
      "2\n",
      "3\n",
      "6\n"
     ]
    }
   ],
   "source": [
    "count=1\n",
    "enter=int(input(\"정수를 입력하세요: \"))\n",
    "while(count<=enter):\n",
    "    if enter%count==0:\n",
    "        print(count)\n",
    "    count+=1"
   ]
  },
  {
   "cell_type": "markdown",
   "metadata": {},
   "source": [
    "먼저 소수인 수를 나타내기위한 정수를 받기위해서 int(input())을 이용해 정수값을 받고, 그 정수값을 while문 형태에서 count를 받아 값을 돌리면서 count+=1을 하면서 \n",
    "enter%count가 0이면 소수이므로 그 값을 출력한다."
   ]
  },
  {
   "cell_type": "markdown",
   "metadata": {},
   "source": [
    "### [ACM-ICPC 문제 2439번]\n",
    "  - 첫째 줄에는 별 1개, 둘째 줄에는 별 2개, N번째 줄에는 별 N개를 찍는 문제"
   ]
  },
  {
   "cell_type": "code",
   "execution_count": 12,
   "metadata": {},
   "outputs": [
    {
     "name": "stdout",
     "output_type": "stream",
     "text": [
      "5\n",
      "    *\n",
      "   **\n",
      "  ***\n",
      " ****\n",
      "*****\n"
     ]
    }
   ],
   "source": [
    "count=1\n",
    "n=int(input())\n",
    "while n>=count:\n",
    "    print (\" \"*(n-count)+\"*\"*count)\n",
    "    count+=1"
   ]
  },
  {
   "cell_type": "markdown",
   "metadata": {},
   "source": [
    "먼저 int(input())으로 값을 받고, 그 값을 별 1개씩 찍기위해서는 \" \"는 n-count와 같고, \" \"는 count와 개수가 맞게 움직이므로 count+=1하면서 실행하면 결과값이 출력된다.\n",
    "<img src=\"files/1.PNG\">"
   ]
  },
  {
   "cell_type": "markdown",
   "metadata": {},
   "source": [
    "### [ACM-ICPC 문제 1924번]\n",
    "  - 오늘은 2007년 1월 1일 월요일이다. 그렇다면 2007년 x월 y일은 무슨 요일일까? 이를 알아내는 프로그램을 작성하시오."
   ]
  },
  {
   "cell_type": "code",
   "execution_count": 1,
   "metadata": {},
   "outputs": [
    {
     "name": "stdout",
     "output_type": "stream",
     "text": [
      "월 입력: 5\n",
      "일 입력: 12\n",
      "SAT\n"
     ]
    }
   ],
   "source": [
    "count=0\n",
    "add=0\n",
    "result=0\n",
    "x=int(input(\"월 입력: \"))\n",
    "y=int(input(\"일 입력: \"))\n",
    "while(x>count):\n",
    "    if count==1:\n",
    "        add+=31\n",
    "    elif count==3:\n",
    "        add+=31\n",
    "    elif count==5:\n",
    "        add+=31\n",
    "    elif count==7:\n",
    "        add+=31\n",
    "    elif count==10:\n",
    "        add+=31\n",
    "    elif count==12:\n",
    "        add+=31         \n",
    "    elif count==4:\n",
    "        add+=30\n",
    "    elif count==6:\n",
    "        add+=30\n",
    "    elif count==8:\n",
    "        add+=30\n",
    "    elif count==9:\n",
    "        add+=30\n",
    "    elif count==11:\n",
    "        add+=30\n",
    "    elif count==2:\n",
    "        add+=28\n",
    "    else:\n",
    "        add+=0\n",
    "    result=add+y    \n",
    "    count+=1   \n",
    "result=result%7\n",
    "if result==1:\n",
    "    print(\"MON\")\n",
    "elif result==2:\n",
    "    print(\"TUE\")\n",
    "elif result==3:\n",
    "    print(\"WED\")\n",
    "elif result==4:\n",
    "    print(\"THU\")\n",
    "elif result==5:\n",
    "    print(\"FRI\")\n",
    "elif result==6:\n",
    "    print(\"SAT\")\n",
    "else:\n",
    "    print(\"SUN\")\n"
   ]
  },
  {
   "cell_type": "markdown",
   "metadata": {},
   "source": [
    "먼저 월이 각자 마지막 일이 다르므로 모든 그 값들에 대해 if문을 이용해 add에 더해준다.\n",
    "만약 3이라면 count를 이용해 count==1과2 가 실행되어 31+28이 add에 더해진다. 그 후 일에서 입력 받은 y값도 더해준다. 그리고 그 값을 또 %7로 하여 1은 MON 2는 TUE 이런식으로 출력되도록 if문을 설정한다.\n",
    "<img src=\"files/2.PNG\">\n",
    "jupyter notebook에서는 실행되나 사이트에서는 런타임 에러가 뜬다."
   ]
  },
  {
   "cell_type": "markdown",
   "metadata": {},
   "source": [
    "### [ACM-ICPC 문제 11720번]\n",
    "  - N개의 숫자가 공백 없이 쓰여있다. 이 숫자를 모두 합해서 출력하는 프로그램을 작성하시오."
   ]
  },
  {
   "cell_type": "code",
   "execution_count": 5,
   "metadata": {},
   "outputs": [
    {
     "name": "stdout",
     "output_type": "stream",
     "text": [
      "5\n",
      "54321\n",
      "15\n"
     ]
    }
   ],
   "source": [
    "count=0\n",
    "result=0\n",
    "x=int(input())\n",
    "y=input()\n",
    "while(count<x):\n",
    "    result+=int(y[count])\n",
    "    count+=1\n",
    "print(result)"
   ]
  },
  {
   "cell_type": "markdown",
   "metadata": {},
   "source": [
    "먼저 x는 int(input())를 이용해 정수로 받고, y는 input()를 이용해 값을 받는다. 그 후 while를 위해 count를 +1씩 더해주면서 x와 값이 같아질 때까지 돌린다. 이 때, 스트링인 y를 count를 이용해 0부터 x까지의 스트링을 하나씩 빼오면서 int형으로 바꾸면서 더해준다. 이렇게해서 다 더해주면 올바른 결과값이 출력된다.\n",
    "<img src=\"files/3.png\">"
   ]
  }
 ],
 "metadata": {
  "kernelspec": {
   "display_name": "Python 3",
   "language": "python",
   "name": "python3"
  },
  "language_info": {
   "codemirror_mode": {
    "name": "ipython",
    "version": 3
   },
   "file_extension": ".py",
   "mimetype": "text/x-python",
   "name": "python",
   "nbconvert_exporter": "python",
   "pygments_lexer": "ipython3",
   "version": "3.6.1"
  }
 },
 "nbformat": 4,
 "nbformat_minor": 2
}
