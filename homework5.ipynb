{
 "cells": [
  {
   "cell_type": "markdown",
   "metadata": {},
   "source": [
    "### [1번 문제]\n",
    "클래스와 모듈의 공통점과 차이점에 대해 설명하시오."
   ]
  },
  {
   "cell_type": "markdown",
   "metadata": {},
   "source": [
    "먼저 클래스와 모듈의 차이점은 클래스의 경우 class를 이용해 미리 지정해놓은 함수나 인수들을 불러와 설정할 수 있는 방식이다.\n",
    "반면 모듈의 경우 클래스가 아니라 프로그램 자체를 import를 통해 가져옴으로써 import한 함수안의 기능들을 사용할 수 있다."
   ]
  },
  {
   "cell_type": "markdown",
   "metadata": {},
   "source": [
    "### [2번 문제]\n",
    "다형성에 대해 설명하고 다형성을 보여주는 자신만의 파이썬 코드 예제를 제시하시오."
   ]
  },
  {
   "cell_type": "code",
   "execution_count": 16,
   "metadata": {},
   "outputs": [
    {
     "name": "stdout",
     "output_type": "stream",
     "text": [
      "반지름=10\n",
      "x=10\n"
     ]
    }
   ],
   "source": [
    "class Circle:\n",
    "    def __init__(self):\n",
    "        print(\"Circle\")\n",
    "class Point(Circle):\n",
    "    def x():\n",
    "        print(\"x=10\")\n",
    "    def y():\n",
    "        print(\"y=10\")\n",
    "class Size(Circle):\n",
    "    def radius():\n",
    "        print(\"반지름=10\")\n",
    "    def diameter():\n",
    "        print(\"지름=20\")\n",
    "a=Size\n",
    "a.radius()\n",
    "b=Point\n",
    "b.x()"
   ]
  },
  {
   "cell_type": "markdown",
   "metadata": {},
   "source": [
    "Circle이라는 원을 나타내는 class에 Point와 Size라는 상속 받는 함수를 두어 Point에서는 x,y를 Size에서는 반지름과 지름을 가리킨다."
   ]
  },
  {
   "cell_type": "markdown",
   "metadata": {},
   "source": [
    "### [3번 문제]\n",
    "다음 각 요구사항 모두를 만족시키는 Counter 클래스를 코딩하시오 (정답을 각 요구사항별로 입력할 필요 없이 3번 문제에 대해 1개의 클래스 정의 코드를 제시하면 된다.)"
   ]
  },
  {
   "cell_type": "code",
   "execution_count": 64,
   "metadata": {},
   "outputs": [
    {
     "name": "stdout",
     "output_type": "stream",
     "text": [
      "1\n",
      "3\n",
      "6\n",
      "False\n",
      "True\n",
      "True\n"
     ]
    }
   ],
   "source": [
    "class Counter:\n",
    "    def __init__(self,count,step):\n",
    "        self.value = count\n",
    "        self.step = step\n",
    "    def __str__(self):\n",
    "        return str(self.value)\n",
    "    def incr(self):\n",
    "        self.value+=self.step\n",
    "    def __add__(self,other):\n",
    "        return self.value + other\n",
    "    def __sub__(self, other):\n",
    "        return self.value - other\n",
    "    def __gt__(self, other):\n",
    "        return self.value > other\n",
    "    def __ge__(self, other):\n",
    "        return self.value >= other \n",
    "    def __lt__(self, other):\n",
    "        return self.value < other\n",
    "    def __le__(self, other):\n",
    "        return self.value <= other\n",
    "    def __eq__(self, y):\n",
    "        return self.value == other\n",
    "c1=Counter(1,2)\n",
    "print(c1)\n",
    "c1.incr()\n",
    "print(c1)\n",
    "c1=Counter(1,2)\n",
    "c1=c1+5\n",
    "print(c1)\n",
    "print(c1 < 5)\n",
    "print(c1 > 5)\n",
    "print(c1 == 6)\n"
   ]
  },
  {
   "cell_type": "markdown",
   "metadata": {},
   "source": [
    "요구사항에 맞춰 생성자와 출력자를 생성하고, step에 따른 값의 덧셈과 연산자 기호를 이용한 값 변화를 보고, 또 대수 비교를 통한 옳은지 옳지 않은지를 알아보았다."
   ]
  },
  {
   "cell_type": "markdown",
   "metadata": {},
   "source": [
    "### [4번 문제]\n",
    "다음은 내장 자료형 list를 서브클래싱하여 만든 MySet 클래스 정의 내용이다. 다음 클래스 정의에서 __init__(), __str()__(), elimicate_duplicate()의 세 개의 메소드 코드 내용을 자신이 다른 사람에게 가르친다고 생각하며 설명해보시오."
   ]
  },
  {
   "cell_type": "code",
   "execution_count": 66,
   "metadata": {},
   "outputs": [
    {
     "name": "stdout",
     "output_type": "stream",
     "text": [
      "MySet: {1 ,2 ,3}\n",
      "MySet: {2 ,3 ,4 ,5 ,6 ,7 ,8 ,9}\n"
     ]
    }
   ],
   "source": [
    "class MySet(list):\n",
    "    def __init__(self, l):\n",
    "        for e in l:\n",
    "            self.append(e)\n",
    "        MySet.eliminate_duplicate(self)\n",
    "    \n",
    "    def __str__(self):\n",
    "        result = \"MySet: {\"\n",
    "        for e in self:\n",
    "            result = result + str(e) + \" ,\"\n",
    "        result = result[0:len(result)-2] + \"}\"\n",
    "        return result\n",
    "\n",
    "    @staticmethod    \n",
    "    def eliminate_duplicate(l):\n",
    "        s = []\n",
    "        for e in l:\n",
    "            if e not in s:\n",
    "                s.append(e)\n",
    "        l[:] = []\n",
    "        for e in s:\n",
    "            l.append(e)\n",
    "\n",
    "    \n",
    "if __name__ == \"__main__\":\n",
    "    s = MySet([1, 2, 2, 3])\n",
    "    print(s)\n",
    "    t = MySet([2, 3, 4, 5, 6, 7, 8, 8, 8, 8, 8, 9])\n",
    "    print(t)"
   ]
  },
  {
   "cell_type": "markdown",
   "metadata": {},
   "source": [
    "- __init__은 생성자로 MySet을 생성할 때 사용되는데 먼저 l을 받는데 for을 이용해 l을 각각을 Myset안의 list로 넣기 위해 append를 사용하여 각각의 list를 넣는다. 그 후  eliminate_duplicate로 이동한다.\n",
    "- __str__은 출력할 때 필요한 메소드로 for을 이용해 list의 각각의 요소들을 문자열로 추가하여 result에 값을 넣어 출력한다.\n",
    "- eliminate_duplicate의 경우 실제로 원하는 값들을 도출하기 위해 실행하는 곳으로 s라는 리스트를 만들어 s안에 l의 각 요소들이 존재하지 않으면 추가하고 없을 경우 추가하지 않도록 하여 중복된 값들을 제거한다."
   ]
  },
  {
   "cell_type": "markdown",
   "metadata": {},
   "source": [
    "### [5번 문제]\n",
    "4번 문제에 정의된 MySet 클래스에 메소드를 추가하여 다음 각 요구사항 모두를 만족시키는 코딩을 제시하시오"
   ]
  },
  {
   "cell_type": "code",
   "execution_count": 136,
   "metadata": {},
   "outputs": [
    {
     "name": "stdout",
     "output_type": "stream",
     "text": [
      "MySet: {1 ,2 ,3}\n",
      "MySet: {2 ,3 ,4 ,5 ,6 ,7 ,8 ,9}\n",
      "MySet: {1 ,2 ,3 ,4 ,5 ,6 ,7 ,8 ,9}\n",
      "MySet: {2 ,3}\n",
      "MySet: {1 ,2}\n"
     ]
    }
   ],
   "source": [
    "class MySet(list):\n",
    "    def __init__(self, l):\n",
    "        for e in l:\n",
    "            self.append(e)\n",
    "        MySet.eliminate_duplicate(self)\n",
    "    \n",
    "    def __str__(self):\n",
    "        result = \"MySet: {\"\n",
    "        for e in self:\n",
    "            result = result + str(e) + \" ,\"\n",
    "        result = result[0:len(result)-2] + \"}\"\n",
    "        return result\n",
    "    def __or__(self,other):\n",
    "        for e in other:\n",
    "            self.append(e)\n",
    "        MySet.eliminate_duplicate(self)\n",
    "        return self\n",
    "    def __and__(self, other):\n",
    "        a=[]\n",
    "        for e in self:\n",
    "            if e in other:\n",
    "                a.append(e)\n",
    "        self[:]=[]\n",
    "        for e in a:\n",
    "            self.append(e)\n",
    "        MySet.eliminate_duplicate(self)\n",
    "        return self\n",
    "    def __sub__(self, other):\n",
    "        a=[]\n",
    "        for e in self:\n",
    "            if e not in other:\n",
    "                a.append(e)\n",
    "        self[:]=[]\n",
    "        for e in a:\n",
    "            self.append(e)\n",
    "        MySet.eliminate_duplicate(self)\n",
    "        return self\n",
    "    @staticmethod    \n",
    "    def eliminate_duplicate(l):\n",
    "        s = []\n",
    "        for e in l:\n",
    "            if e not in s:\n",
    "                s.append(e)\n",
    "        l[:] = []\n",
    "        for e in s:\n",
    "            l.append(e)\n",
    "\n",
    "    \n",
    "if __name__ == \"__main__\":\n",
    "    s = MySet([1, 2, 2, 3])\n",
    "    print(s)\n",
    "    t = MySet([2, 3, 4, 5, 6, 7, 8, 8, 8, 8, 8, 9])\n",
    "    print(t)\n",
    "    u=s|t\n",
    "    print(u)\n",
    "    s = MySet([1, 2, 2, 3])\n",
    "    t = MySet([2, 3, 4, 5, 6, 7, 8, 8, 8, 8, 8, 9])\n",
    "    u = s & t \n",
    "    print(u)\n",
    "    s = MySet([1, 2, 3])\n",
    "    t = MySet([3, 4, 5]) \n",
    "    u = s - t \n",
    "    print(u)"
   ]
  },
  {
   "cell_type": "markdown",
   "metadata": {},
   "source": [
    "- |의 경우 __or__로 나타내어 other 값에서 값을 append로 추가한 후 eliminate_duplicate를 이용해 중복 값을 제거하면 합집합이 된다.\n",
    "- &의 경우 __and__로 나타내어 for문을 이용해 각각의 요소로 나눈후 if in을 이용해 self값과 같을 경우 값을 넣어서 eliminate_duplicate을 이용해 중복요소를 제거한 후 끝낸다.\n",
    "- -의 경우 __sub__로 나타내어 __and__와 비슷하지만 for not in을 이용해 값을 나타낸다."
   ]
  },
  {
   "cell_type": "markdown",
   "metadata": {},
   "source": [
    "### [6번 문제]\n",
    "5번 문제에서 정의한 MySet 클래스에 대해 다음 예제를 수행하면 오류없이 올바르게 동작하는 것을 확인할 수 있다. 다음 예제 내에 있는 len(), bool() 내장함수와 in 키워드 사용 예제가 별다른 메소드 정의를 하지 않았는 데도 올바르게 수행되는 이유를 설명하시오.\n"
   ]
  },
  {
   "cell_type": "code",
   "execution_count": 139,
   "metadata": {},
   "outputs": [
    {
     "name": "stdout",
     "output_type": "stream",
     "text": [
      "6\n",
      "True\n",
      "True\n"
     ]
    }
   ],
   "source": [
    "class MySet(list):\n",
    "    def __init__(self, l):\n",
    "        for e in l:\n",
    "            self.append(e)\n",
    "        MySet.eliminate_duplicate(self)\n",
    "    \n",
    "    def __str__(self):\n",
    "        result = \"MySet: {\"\n",
    "        for e in self:\n",
    "            result = result + str(e) + \" ,\"\n",
    "        result = result[0:len(result)-2] + \"}\"\n",
    "        return result\n",
    "    def __or__(self,other):\n",
    "        for e in other:\n",
    "            self.append(e)\n",
    "        MySet.eliminate_duplicate(self)\n",
    "        return self\n",
    "    def __and__(self, other):\n",
    "        a=[]\n",
    "        for e in self:\n",
    "            if e in other:\n",
    "                a.append(e)\n",
    "        self[:]=[]\n",
    "        for e in a:\n",
    "            self.append(e)\n",
    "        MySet.eliminate_duplicate(self)\n",
    "        return self\n",
    "    def __sub__(self, other):\n",
    "        a=[]\n",
    "        for e in self:\n",
    "            if e not in other:\n",
    "                a.append(e)\n",
    "        self[:]=[]\n",
    "        for e in a:\n",
    "            self.append(e)\n",
    "        MySet.eliminate_duplicate(self)\n",
    "        return self\n",
    "    @staticmethod    \n",
    "    def eliminate_duplicate(l):\n",
    "        s = []\n",
    "        for e in l:\n",
    "            if e not in s:\n",
    "                s.append(e)\n",
    "        l[:] = []\n",
    "        for e in s:\n",
    "            l.append(e)\n",
    "\n",
    "    \n",
    "if __name__ == \"__main__\":\n",
    "    s = MySet([1,2,3,4,5,6])\n",
    "    print(len(s))\n",
    "    print(bool(s))\n",
    "    print(2 in s)"
   ]
  },
  {
   "cell_type": "markdown",
   "metadata": {},
   "source": [
    "- len(), bool()과 같은 함수는 이미 파이썬안에 만들어져 있는 함수로, 파이썬에 len()의 경우 len()의 모듈에서 이미 짜여진 메소드를 가져오기 때문에 별다른 메소드의 정의를 하지 않아도 실행이 가능하다."
   ]
  },
  {
   "cell_type": "code",
   "execution_count": null,
   "metadata": {
    "collapsed": true
   },
   "outputs": [],
   "source": []
  }
 ],
 "metadata": {
  "kernelspec": {
   "display_name": "Python 3",
   "language": "python",
   "name": "python3"
  },
  "language_info": {
   "codemirror_mode": {
    "name": "ipython",
    "version": 3
   },
   "file_extension": ".py",
   "mimetype": "text/x-python",
   "name": "python",
   "nbconvert_exporter": "python",
   "pygments_lexer": "ipython3",
   "version": "3.6.1"
  }
 },
 "nbformat": 4,
 "nbformat_minor": 2
}
